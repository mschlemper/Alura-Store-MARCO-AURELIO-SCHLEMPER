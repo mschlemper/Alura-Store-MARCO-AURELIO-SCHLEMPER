import pandas as pd
import matplotlib.pyplot as plt
import seaborn as sns

sns.set(style="whitegrid")
plt.rcParams["figure.figsize"] = (10, 6)


clientes = pd.read_csv('clientes.csv')
produtos = pd.read_csv('produtos.csv')
vendas = pd.read_csv('vendas.csv')
avaliacoes = pd.read_csv('avaliacoes.csv')


print("Clientes:")
print(clientes.head())

print("\nProdutos:")
print(produtos.head())

print("\nVendas:")
print(vendas.head())

print("\nAvaliações:")
print(avaliacoes.head())


print(vendas.isnull().sum())
print(avaliacoes.isnull().sum())

vendas['frete'].fillna(vendas['frete'].mean(), inplace=True)


faturamento_loja = vendas.groupby('loja')['valor'].sum().sort_values(ascending=False)
print(faturamento_loja)

faturamento_loja.plot(kind='bar', title='Faturamento por Loja', color='skyblue')
plt.ylabel('R$')
plt.xlabel('Loja')
plt.xticks(rotation=45)
plt.tight_layout()
plt.show()

media_avaliacoes = avaliacoes.groupby('produto')['nota'].mean().sort_values(ascending=False)
print(media_avaliacoes.head())

media_avaliacoes.head(10).plot(kind='barh', title='Top 10 Produtos por Avaliação', color='orange')
plt.xlabel('Nota Média')
plt.ylabel('Produto')
plt.tight_layout()
plt.show()

frete_medio = vendas.groupby('produto')['frete'].mean().sort_values(ascending=False)
print(frete_medio.head())

frete_medio.head(10).plot(kind='barh', title='Top 10 Produtos por Frete Médio', color='green')
plt.xlabel('Frete Médio (R$)')
plt.ylabel('Produto')
plt.tight_layout()
plt.show()

clientes_top = vendas.groupby('cliente')['valor'].sum().sort_values(ascending=False)
print(clientes_top.head())

clientes_top.head(10).plot(kind='barh', title='Top 10 Clientes por Valor de Compra', color='purple')
plt.xlabel('Valor Total (R$)')
plt.ylabel('Cliente')
plt.tight_layout()
plt.show()
