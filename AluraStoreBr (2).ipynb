📁 1. Importação das bibliotecas e dos dados

import pandas as pd
import matplotlib.pyplot as plt
import seaborn as sns

# Configuração de estilo
sns.set(style="whitegrid")
plt.rcParams["figure.figsize"] = (10, 6)

# Carregando os dados
clientes = pd.read_csv('clientes.csv')
produtos = pd.read_csv('produtos.csv')
vendas = pd.read_csv('vendas.csv')
avaliacoes = pd.read_csv('avaliacoes.csv')

👀 2. Visualização inicial

print("Clientes:")
print(clientes.head())

print("\nProdutos:")
print(produtos.head())

print("\nVendas:")
print(vendas.head())

print("\nAvaliações:")
print(avaliacoes.head())

🧼 3. Limpeza e preparação dos dados

# Verificando valores nulos
print(vendas.isnull().sum())
print(avaliacoes.isnull().sum())

# Preenchendo valores nulos no frete
vendas['frete'].fillna(vendas['frete'].mean(), inplace=True)

📊 4. Análises e Insights

faturamento_loja = vendas.groupby('loja')['valor'].sum().sort_values(ascending=False)
print(faturamento_loja)

faturamento_loja.plot(kind='bar', title='Faturamento por Loja', color='skyblue')
plt.ylabel('R$')
plt.xlabel('Loja')
plt.xticks(rotation=45)
plt.tight_layout()
plt.show()

⭐ Média de avaliação por produto
media_avaliacoes = avaliacoes.groupby('produto')['nota'].mean().sort_values(ascending=False)
print(media_avaliacoes.head())

media_avaliacoes.head(10).plot(kind='barh', title='Top 10 Produtos por Avaliação', color='orange')
plt.xlabel('Nota Média')
plt.ylabel('Produto')
plt.tight_layout()
plt.show()

🚚 Custo médio de frete por produto
frete_medio = vendas.groupby('produto')['frete'].mean().sort_values(ascending=False)
print(frete_medio.head())

frete_medio.head(10).plot(kind='barh', title='Top 10 Produtos por Frete Médio', color='green')
plt.xlabel('Frete Médio (R$)')
plt.ylabel('Produto')
plt.tight_layout()
plt.show()

👤 Clientes que mais compraram
clientes_top = vendas.groupby('cliente')['valor'].sum().sort_values(ascending=False)
print(clientes_top.head())

clientes_top.head(10).plot(kind='barh', title='Top 10 Clientes por Valor de Compra', color='purple')
plt.xlabel('Valor Total (R$)')
plt.ylabel('Cliente')
plt.tight_layout()
plt.show()

📌 5. Conclusões
- A loja com maior faturamento é a [nome da loja].
- O produto mais bem avaliado é [nome do produto].
- O frete médio mais alto está associado ao produto [nome do produto].
- O cliente que mais comprou foi [nome do cliente].
