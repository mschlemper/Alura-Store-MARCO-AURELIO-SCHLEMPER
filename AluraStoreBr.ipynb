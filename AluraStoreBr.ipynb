{
  "nbformat": 4,
  "nbformat_minor": 0,
  "metadata": {
    "colab": {
      "provenance": [],
      "include_colab_link": true
    },
    "kernelspec": {
      "name": "python3",
      "display_name": "Python 3"
    },
    "language_info": {
      "name": "python"
    }
  },
  "cells": [
    {
      "cell_type": "markdown",
      "metadata": {
        "id": "view-in-github",
        "colab_type": "text"
      },
      "source": [
        "<a href=\"https://colab.research.google.com/github/mschlemper/Alura-Store-MARCO-AURELIO-SCHLEMPER/blob/main/AluraStoreBr.ipynb\" target=\"_parent\"><img src=\"https://colab.research.google.com/assets/colab-badge.svg\" alt=\"Open In Colab\"/></a>"
      ]
    },
    {
      "cell_type": "markdown",
      "source": [
        "### Importação dos dados\n",
        "\n"
      ],
      "metadata": {
        "id": "RhEdWd9YUR6H"
      }
    },
    {
      "cell_type": "code",
      "execution_count": 18,
      "metadata": {
        "colab": {
          "base_uri": "https://localhost:8080/",
          "height": 293
        },
        "id": "T3EvaeQ_INIL",
        "outputId": "5db64e4b-4f98-46f4-868f-eb7961357ee2"
      },
      "outputs": [
        {
          "output_type": "execute_result",
          "data": {
            "text/plain": [
              "                 Produto Categoria do Produto    Preço      Frete  \\\n",
              "0     Assistente virtual          eletronicos   219.08   9.249790   \n",
              "1         Mesa de jantar               moveis   256.35  11.234305   \n",
              "2      Jogo de tabuleiro           brinquedos   279.51  21.262681   \n",
              "3            Micro-ondas     eletrodomesticos  1009.99  54.667344   \n",
              "4  Cadeira de escritório               moveis   446.99  26.964689   \n",
              "\n",
              "  Data da Compra        Vendedor Local da compra  Avaliação da compra  \\\n",
              "0     16/01/2021     Pedro Gomes              SP                    4   \n",
              "1     18/05/2022  Beatriz Moraes              RJ                    1   \n",
              "2     15/03/2021      João Souza              DF                    1   \n",
              "3     03/05/2022      João Souza              RS                    4   \n",
              "4     07/11/2020   Larissa Alves              MG                    5   \n",
              "\n",
              "  Tipo de pagamento  Quantidade de parcelas    lat    lon  \n",
              "0    cartao_credito                       8 -22.19 -48.79  \n",
              "1    cartao_credito                       4 -22.25 -42.66  \n",
              "2    cartao_credito                       1 -15.83 -47.86  \n",
              "3            boleto                       1 -30.17 -53.50  \n",
              "4            boleto                       1 -18.10 -44.38  "
            ],
            "text/html": [
              "\n",
              "  <div id=\"df-494fddf9-a910-4cd4-ae55-24ea5aa35841\" class=\"colab-df-container\">\n",
              "    <div>\n",
              "<style scoped>\n",
              "    .dataframe tbody tr th:only-of-type {\n",
              "        vertical-align: middle;\n",
              "    }\n",
              "\n",
              "    .dataframe tbody tr th {\n",
              "        vertical-align: top;\n",
              "    }\n",
              "\n",
              "    .dataframe thead th {\n",
              "        text-align: right;\n",
              "    }\n",
              "</style>\n",
              "<table border=\"1\" class=\"dataframe\">\n",
              "  <thead>\n",
              "    <tr style=\"text-align: right;\">\n",
              "      <th></th>\n",
              "      <th>Produto</th>\n",
              "      <th>Categoria do Produto</th>\n",
              "      <th>Preço</th>\n",
              "      <th>Frete</th>\n",
              "      <th>Data da Compra</th>\n",
              "      <th>Vendedor</th>\n",
              "      <th>Local da compra</th>\n",
              "      <th>Avaliação da compra</th>\n",
              "      <th>Tipo de pagamento</th>\n",
              "      <th>Quantidade de parcelas</th>\n",
              "      <th>lat</th>\n",
              "      <th>lon</th>\n",
              "    </tr>\n",
              "  </thead>\n",
              "  <tbody>\n",
              "    <tr>\n",
              "      <th>0</th>\n",
              "      <td>Assistente virtual</td>\n",
              "      <td>eletronicos</td>\n",
              "      <td>219.08</td>\n",
              "      <td>9.249790</td>\n",
              "      <td>16/01/2021</td>\n",
              "      <td>Pedro Gomes</td>\n",
              "      <td>SP</td>\n",
              "      <td>4</td>\n",
              "      <td>cartao_credito</td>\n",
              "      <td>8</td>\n",
              "      <td>-22.19</td>\n",
              "      <td>-48.79</td>\n",
              "    </tr>\n",
              "    <tr>\n",
              "      <th>1</th>\n",
              "      <td>Mesa de jantar</td>\n",
              "      <td>moveis</td>\n",
              "      <td>256.35</td>\n",
              "      <td>11.234305</td>\n",
              "      <td>18/05/2022</td>\n",
              "      <td>Beatriz Moraes</td>\n",
              "      <td>RJ</td>\n",
              "      <td>1</td>\n",
              "      <td>cartao_credito</td>\n",
              "      <td>4</td>\n",
              "      <td>-22.25</td>\n",
              "      <td>-42.66</td>\n",
              "    </tr>\n",
              "    <tr>\n",
              "      <th>2</th>\n",
              "      <td>Jogo de tabuleiro</td>\n",
              "      <td>brinquedos</td>\n",
              "      <td>279.51</td>\n",
              "      <td>21.262681</td>\n",
              "      <td>15/03/2021</td>\n",
              "      <td>João Souza</td>\n",
              "      <td>DF</td>\n",
              "      <td>1</td>\n",
              "      <td>cartao_credito</td>\n",
              "      <td>1</td>\n",
              "      <td>-15.83</td>\n",
              "      <td>-47.86</td>\n",
              "    </tr>\n",
              "    <tr>\n",
              "      <th>3</th>\n",
              "      <td>Micro-ondas</td>\n",
              "      <td>eletrodomesticos</td>\n",
              "      <td>1009.99</td>\n",
              "      <td>54.667344</td>\n",
              "      <td>03/05/2022</td>\n",
              "      <td>João Souza</td>\n",
              "      <td>RS</td>\n",
              "      <td>4</td>\n",
              "      <td>boleto</td>\n",
              "      <td>1</td>\n",
              "      <td>-30.17</td>\n",
              "      <td>-53.50</td>\n",
              "    </tr>\n",
              "    <tr>\n",
              "      <th>4</th>\n",
              "      <td>Cadeira de escritório</td>\n",
              "      <td>moveis</td>\n",
              "      <td>446.99</td>\n",
              "      <td>26.964689</td>\n",
              "      <td>07/11/2020</td>\n",
              "      <td>Larissa Alves</td>\n",
              "      <td>MG</td>\n",
              "      <td>5</td>\n",
              "      <td>boleto</td>\n",
              "      <td>1</td>\n",
              "      <td>-18.10</td>\n",
              "      <td>-44.38</td>\n",
              "    </tr>\n",
              "  </tbody>\n",
              "</table>\n",
              "</div>\n",
              "    <div class=\"colab-df-buttons\">\n",
              "\n",
              "  <div class=\"colab-df-container\">\n",
              "    <button class=\"colab-df-convert\" onclick=\"convertToInteractive('df-494fddf9-a910-4cd4-ae55-24ea5aa35841')\"\n",
              "            title=\"Convert this dataframe to an interactive table.\"\n",
              "            style=\"display:none;\">\n",
              "\n",
              "  <svg xmlns=\"http://www.w3.org/2000/svg\" height=\"24px\" viewBox=\"0 -960 960 960\">\n",
              "    <path d=\"M120-120v-720h720v720H120Zm60-500h600v-160H180v160Zm220 220h160v-160H400v160Zm0 220h160v-160H400v160ZM180-400h160v-160H180v160Zm440 0h160v-160H620v160ZM180-180h160v-160H180v160Zm440 0h160v-160H620v160Z\"/>\n",
              "  </svg>\n",
              "    </button>\n",
              "\n",
              "  <style>\n",
              "    .colab-df-container {\n",
              "      display:flex;\n",
              "      gap: 12px;\n",
              "    }\n",
              "\n",
              "    .colab-df-convert {\n",
              "      background-color: #E8F0FE;\n",
              "      border: none;\n",
              "      border-radius: 50%;\n",
              "      cursor: pointer;\n",
              "      display: none;\n",
              "      fill: #1967D2;\n",
              "      height: 32px;\n",
              "      padding: 0 0 0 0;\n",
              "      width: 32px;\n",
              "    }\n",
              "\n",
              "    .colab-df-convert:hover {\n",
              "      background-color: #E2EBFA;\n",
              "      box-shadow: 0px 1px 2px rgba(60, 64, 67, 0.3), 0px 1px 3px 1px rgba(60, 64, 67, 0.15);\n",
              "      fill: #174EA6;\n",
              "    }\n",
              "\n",
              "    .colab-df-buttons div {\n",
              "      margin-bottom: 4px;\n",
              "    }\n",
              "\n",
              "    [theme=dark] .colab-df-convert {\n",
              "      background-color: #3B4455;\n",
              "      fill: #D2E3FC;\n",
              "    }\n",
              "\n",
              "    [theme=dark] .colab-df-convert:hover {\n",
              "      background-color: #434B5C;\n",
              "      box-shadow: 0px 1px 3px 1px rgba(0, 0, 0, 0.15);\n",
              "      filter: drop-shadow(0px 1px 2px rgba(0, 0, 0, 0.3));\n",
              "      fill: #FFFFFF;\n",
              "    }\n",
              "  </style>\n",
              "\n",
              "    <script>\n",
              "      const buttonEl =\n",
              "        document.querySelector('#df-494fddf9-a910-4cd4-ae55-24ea5aa35841 button.colab-df-convert');\n",
              "      buttonEl.style.display =\n",
              "        google.colab.kernel.accessAllowed ? 'block' : 'none';\n",
              "\n",
              "      async function convertToInteractive(key) {\n",
              "        const element = document.querySelector('#df-494fddf9-a910-4cd4-ae55-24ea5aa35841');\n",
              "        const dataTable =\n",
              "          await google.colab.kernel.invokeFunction('convertToInteractive',\n",
              "                                                    [key], {});\n",
              "        if (!dataTable) return;\n",
              "\n",
              "        const docLinkHtml = 'Like what you see? Visit the ' +\n",
              "          '<a target=\"_blank\" href=https://colab.research.google.com/notebooks/data_table.ipynb>data table notebook</a>'\n",
              "          + ' to learn more about interactive tables.';\n",
              "        element.innerHTML = '';\n",
              "        dataTable['output_type'] = 'display_data';\n",
              "        await google.colab.output.renderOutput(dataTable, element);\n",
              "        const docLink = document.createElement('div');\n",
              "        docLink.innerHTML = docLinkHtml;\n",
              "        element.appendChild(docLink);\n",
              "      }\n",
              "    </script>\n",
              "  </div>\n",
              "\n",
              "\n",
              "    <div id=\"df-c4465ff0-8558-45ef-b4ca-3ccc01005a36\">\n",
              "      <button class=\"colab-df-quickchart\" onclick=\"quickchart('df-c4465ff0-8558-45ef-b4ca-3ccc01005a36')\"\n",
              "                title=\"Suggest charts\"\n",
              "                style=\"display:none;\">\n",
              "\n",
              "<svg xmlns=\"http://www.w3.org/2000/svg\" height=\"24px\"viewBox=\"0 0 24 24\"\n",
              "     width=\"24px\">\n",
              "    <g>\n",
              "        <path d=\"M19 3H5c-1.1 0-2 .9-2 2v14c0 1.1.9 2 2 2h14c1.1 0 2-.9 2-2V5c0-1.1-.9-2-2-2zM9 17H7v-7h2v7zm4 0h-2V7h2v10zm4 0h-2v-4h2v4z\"/>\n",
              "    </g>\n",
              "</svg>\n",
              "      </button>\n",
              "\n",
              "<style>\n",
              "  .colab-df-quickchart {\n",
              "      --bg-color: #E8F0FE;\n",
              "      --fill-color: #1967D2;\n",
              "      --hover-bg-color: #E2EBFA;\n",
              "      --hover-fill-color: #174EA6;\n",
              "      --disabled-fill-color: #AAA;\n",
              "      --disabled-bg-color: #DDD;\n",
              "  }\n",
              "\n",
              "  [theme=dark] .colab-df-quickchart {\n",
              "      --bg-color: #3B4455;\n",
              "      --fill-color: #D2E3FC;\n",
              "      --hover-bg-color: #434B5C;\n",
              "      --hover-fill-color: #FFFFFF;\n",
              "      --disabled-bg-color: #3B4455;\n",
              "      --disabled-fill-color: #666;\n",
              "  }\n",
              "\n",
              "  .colab-df-quickchart {\n",
              "    background-color: var(--bg-color);\n",
              "    border: none;\n",
              "    border-radius: 50%;\n",
              "    cursor: pointer;\n",
              "    display: none;\n",
              "    fill: var(--fill-color);\n",
              "    height: 32px;\n",
              "    padding: 0;\n",
              "    width: 32px;\n",
              "  }\n",
              "\n",
              "  .colab-df-quickchart:hover {\n",
              "    background-color: var(--hover-bg-color);\n",
              "    box-shadow: 0 1px 2px rgba(60, 64, 67, 0.3), 0 1px 3px 1px rgba(60, 64, 67, 0.15);\n",
              "    fill: var(--button-hover-fill-color);\n",
              "  }\n",
              "\n",
              "  .colab-df-quickchart-complete:disabled,\n",
              "  .colab-df-quickchart-complete:disabled:hover {\n",
              "    background-color: var(--disabled-bg-color);\n",
              "    fill: var(--disabled-fill-color);\n",
              "    box-shadow: none;\n",
              "  }\n",
              "\n",
              "  .colab-df-spinner {\n",
              "    border: 2px solid var(--fill-color);\n",
              "    border-color: transparent;\n",
              "    border-bottom-color: var(--fill-color);\n",
              "    animation:\n",
              "      spin 1s steps(1) infinite;\n",
              "  }\n",
              "\n",
              "  @keyframes spin {\n",
              "    0% {\n",
              "      border-color: transparent;\n",
              "      border-bottom-color: var(--fill-color);\n",
              "      border-left-color: var(--fill-color);\n",
              "    }\n",
              "    20% {\n",
              "      border-color: transparent;\n",
              "      border-left-color: var(--fill-color);\n",
              "      border-top-color: var(--fill-color);\n",
              "    }\n",
              "    30% {\n",
              "      border-color: transparent;\n",
              "      border-left-color: var(--fill-color);\n",
              "      border-top-color: var(--fill-color);\n",
              "      border-right-color: var(--fill-color);\n",
              "    }\n",
              "    40% {\n",
              "      border-color: transparent;\n",
              "      border-right-color: var(--fill-color);\n",
              "      border-top-color: var(--fill-color);\n",
              "    }\n",
              "    60% {\n",
              "      border-color: transparent;\n",
              "      border-right-color: var(--fill-color);\n",
              "    }\n",
              "    80% {\n",
              "      border-color: transparent;\n",
              "      border-right-color: var(--fill-color);\n",
              "      border-bottom-color: var(--fill-color);\n",
              "    }\n",
              "    90% {\n",
              "      border-color: transparent;\n",
              "      border-bottom-color: var(--fill-color);\n",
              "    }\n",
              "  }\n",
              "</style>\n",
              "\n",
              "      <script>\n",
              "        async function quickchart(key) {\n",
              "          const quickchartButtonEl =\n",
              "            document.querySelector('#' + key + ' button');\n",
              "          quickchartButtonEl.disabled = true;  // To prevent multiple clicks.\n",
              "          quickchartButtonEl.classList.add('colab-df-spinner');\n",
              "          try {\n",
              "            const charts = await google.colab.kernel.invokeFunction(\n",
              "                'suggestCharts', [key], {});\n",
              "          } catch (error) {\n",
              "            console.error('Error during call to suggestCharts:', error);\n",
              "          }\n",
              "          quickchartButtonEl.classList.remove('colab-df-spinner');\n",
              "          quickchartButtonEl.classList.add('colab-df-quickchart-complete');\n",
              "        }\n",
              "        (() => {\n",
              "          let quickchartButtonEl =\n",
              "            document.querySelector('#df-c4465ff0-8558-45ef-b4ca-3ccc01005a36 button');\n",
              "          quickchartButtonEl.style.display =\n",
              "            google.colab.kernel.accessAllowed ? 'block' : 'none';\n",
              "        })();\n",
              "      </script>\n",
              "    </div>\n",
              "\n",
              "    </div>\n",
              "  </div>\n"
            ],
            "application/vnd.google.colaboratory.intrinsic+json": {
              "type": "dataframe",
              "variable_name": "loja",
              "summary": "{\n  \"name\": \"loja\",\n  \"rows\": 2359,\n  \"fields\": [\n    {\n      \"column\": \"Produto\",\n      \"properties\": {\n        \"dtype\": \"category\",\n        \"num_unique_values\": 51,\n        \"samples\": [\n          \"Viol\\u00e3o\",\n          \"Bola de basquete\",\n          \"Smartwatch\"\n        ],\n        \"semantic_type\": \"\",\n        \"description\": \"\"\n      }\n    },\n    {\n      \"column\": \"Categoria do Produto\",\n      \"properties\": {\n        \"dtype\": \"category\",\n        \"num_unique_values\": 8,\n        \"samples\": [\n          \"moveis\",\n          \"esporte e lazer\",\n          \"eletronicos\"\n        ],\n        \"semantic_type\": \"\",\n        \"description\": \"\"\n      }\n    },\n    {\n      \"column\": \"Pre\\u00e7o\",\n      \"properties\": {\n        \"dtype\": \"number\",\n        \"std\": 819.5827782539145,\n        \"min\": 10.07,\n        \"max\": 3969.38,\n        \"num_unique_values\": 2315,\n        \"samples\": [\n          446.11,\n          107.31,\n          65.86\n        ],\n        \"semantic_type\": \"\",\n        \"description\": \"\"\n      }\n    },\n    {\n      \"column\": \"Frete\",\n      \"properties\": {\n        \"dtype\": \"number\",\n        \"std\": 43.814183327408166,\n        \"min\": 0.0,\n        \"max\": 214.3770604781,\n        \"num_unique_values\": 2149,\n        \"samples\": [\n          83.815279607,\n          16.069664669,\n          14.0344876928\n        ],\n        \"semantic_type\": \"\",\n        \"description\": \"\"\n      }\n    },\n    {\n      \"column\": \"Data da Compra\",\n      \"properties\": {\n        \"dtype\": \"object\",\n        \"num_unique_values\": 1018,\n        \"samples\": [\n          \"15/09/2022\",\n          \"03/06/2020\",\n          \"06/11/2021\"\n        ],\n        \"semantic_type\": \"\",\n        \"description\": \"\"\n      }\n    },\n    {\n      \"column\": \"Vendedor\",\n      \"properties\": {\n        \"dtype\": \"category\",\n        \"num_unique_values\": 14,\n        \"samples\": [\n          \"Juliana Costa\",\n          \"Mariana Ferreira\",\n          \"Pedro Gomes\"\n        ],\n        \"semantic_type\": \"\",\n        \"description\": \"\"\n      }\n    },\n    {\n      \"column\": \"Local da compra\",\n      \"properties\": {\n        \"dtype\": \"category\",\n        \"num_unique_values\": 26,\n        \"samples\": [\n          \"TO\",\n          \"RN\",\n          \"SP\"\n        ],\n        \"semantic_type\": \"\",\n        \"description\": \"\"\n      }\n    },\n    {\n      \"column\": \"Avalia\\u00e7\\u00e3o da compra\",\n      \"properties\": {\n        \"dtype\": \"number\",\n        \"std\": 1,\n        \"min\": 1,\n        \"max\": 5,\n        \"num_unique_values\": 5,\n        \"samples\": [\n          1,\n          2,\n          5\n        ],\n        \"semantic_type\": \"\",\n        \"description\": \"\"\n      }\n    },\n    {\n      \"column\": \"Tipo de pagamento\",\n      \"properties\": {\n        \"dtype\": \"category\",\n        \"num_unique_values\": 4,\n        \"samples\": [\n          \"boleto\",\n          \"cartao_debito\",\n          \"cartao_credito\"\n        ],\n        \"semantic_type\": \"\",\n        \"description\": \"\"\n      }\n    },\n    {\n      \"column\": \"Quantidade de parcelas\",\n      \"properties\": {\n        \"dtype\": \"number\",\n        \"std\": 2,\n        \"min\": 1,\n        \"max\": 24,\n        \"num_unique_values\": 15,\n        \"samples\": [\n          7,\n          14,\n          8\n        ],\n        \"semantic_type\": \"\",\n        \"description\": \"\"\n      }\n    },\n    {\n      \"column\": \"lat\",\n      \"properties\": {\n        \"dtype\": \"number\",\n        \"std\": 5.372399916530833,\n        \"min\": -30.17,\n        \"max\": 1.41,\n        \"num_unique_values\": 26,\n        \"samples\": [\n          -9.46,\n          -5.81,\n          -22.19\n        ],\n        \"semantic_type\": \"\",\n        \"description\": \"\"\n      }\n    },\n    {\n      \"column\": \"lon\",\n      \"properties\": {\n        \"dtype\": \"number\",\n        \"std\": 4.183180020544179,\n        \"min\": -70.55,\n        \"max\": -36.59,\n        \"num_unique_values\": 26,\n        \"samples\": [\n          -48.26,\n          -36.59,\n          -48.79\n        ],\n        \"semantic_type\": \"\",\n        \"description\": \"\"\n      }\n    }\n  ]\n}"
            }
          },
          "metadata": {},
          "execution_count": 18
        }
      ],
      "source": [
        "import pandas as pd\n",
        "\n",
        "url = \"https://raw.githubusercontent.com/alura-es-cursos/challenge1-data-science/refs/heads/main/base-de-dados-challenge-1/loja_1.csv\"\n",
        "url2 = \"https://raw.githubusercontent.com/alura-es-cursos/challenge1-data-science/refs/heads/main/base-de-dados-challenge-1/loja_2.csv\"\n",
        "url3 = \"https://raw.githubusercontent.com/alura-es-cursos/challenge1-data-science/refs/heads/main/base-de-dados-challenge-1/loja_3.csv\"\n",
        "url4 = \"https://raw.githubusercontent.com/alura-es-cursos/challenge1-data-science/refs/heads/main/base-de-dados-challenge-1/loja_4.csv\"\n",
        "\n",
        "loja = pd.read_csv(url)\n",
        "loja2 = pd.read_csv(url2)\n",
        "loja3 = pd.read_csv(url3)\n",
        "loja4 = pd.read_csv(url4)\n",
        "\n",
        "loja.head()"
      ]
    },
    {
      "cell_type": "markdown",
      "source": [
        "#1. Análise do faturamento\n"
      ],
      "metadata": {
        "id": "X62IW3KFUIYm"
      }
    },
    {
      "cell_type": "code",
      "source": [],
      "metadata": {
        "id": "xykobSftV64I"
      },
      "execution_count": 18,
      "outputs": []
    },
    {
      "cell_type": "code",
      "source": [],
      "metadata": {
        "id": "KDyr8E71V3m-"
      },
      "execution_count": 18,
      "outputs": []
    },
    {
      "cell_type": "markdown",
      "source": [
        "# 2. Vendas por Categoria\n"
      ],
      "metadata": {
        "id": "2V_vcAPzWZmR"
      }
    },
    {
      "cell_type": "code",
      "source": [],
      "metadata": {
        "id": "A34YupIuYhfF"
      },
      "execution_count": 18,
      "outputs": []
    },
    {
      "cell_type": "code",
      "source": [],
      "metadata": {
        "id": "yZR6cOjXYSk1"
      },
      "execution_count": 18,
      "outputs": []
    },
    {
      "cell_type": "markdown",
      "source": [
        "# 3. Média de Avaliação das Lojas"
      ],
      "metadata": {
        "id": "Rq6tU_xSY3jk"
      }
    },
    {
      "cell_type": "code",
      "source": [],
      "metadata": {
        "id": "bh3jjjJwY5MU"
      },
      "execution_count": 18,
      "outputs": []
    },
    {
      "cell_type": "code",
      "source": [],
      "metadata": {
        "id": "I0KkjPoTY88F"
      },
      "execution_count": 18,
      "outputs": []
    },
    {
      "cell_type": "markdown",
      "source": [
        "# 4. Produtos Mais e Menos Vendidos"
      ],
      "metadata": {
        "id": "DmNp1KPBZCm-"
      }
    },
    {
      "cell_type": "code",
      "source": [],
      "metadata": {
        "id": "qoyjqijQZHfF"
      },
      "execution_count": 18,
      "outputs": []
    },
    {
      "cell_type": "code",
      "source": [],
      "metadata": {
        "id": "0Sw3sd4IZIGW"
      },
      "execution_count": 18,
      "outputs": []
    },
    {
      "cell_type": "markdown",
      "source": [
        "# 5. Frete Médio por Loja\n"
      ],
      "metadata": {
        "id": "Fl0cGi3bZKqU"
      }
    },
    {
      "cell_type": "code",
      "source": [],
      "metadata": {
        "id": "S2JeaCykZNy9"
      },
      "execution_count": 18,
      "outputs": []
    },
    {
      "cell_type": "code",
      "source": [],
      "metadata": {
        "id": "0tSdCie9ZQlt"
      },
      "execution_count": 18,
      "outputs": []
    },
    {
      "cell_type": "code",
      "metadata": {
        "colab": {
          "base_uri": "https://localhost:8080/",
          "height": 545
        },
        "id": "9115d486",
        "outputId": "27689673-a7a7-415c-ff6e-2c7552a480d9"
      },
      "source": [
        "import matplotlib.pyplot as plt\n",
        "\n",
        "faturamentos = {\n",
        "    'Loja 1': faturamento_loja1,\n",
        "    'Loja 2': faturamento_loja2,\n",
        "    'Loja 3': faturamento_loja3,\n",
        "    'Loja 4': faturamento_loja4\n",
        "}\n",
        "\n",
        "lojas = list(faturamentos.keys())\n",
        "valores = list(faturamentos.values())\n",
        "\n",
        "plt.figure(figsize=(10, 6))\n",
        "plt.bar(lojas, valores, color=['blue', 'green', 'red', 'purple'])\n",
        "plt.ylabel('Faturamento (R$)')\n",
        "plt.title('Faturamento por Loja')\n",
        "plt.show()"
      ],
      "execution_count": 19,
      "outputs": [
        {
          "output_type": "display_data",
          "data": {
            "text/plain": [
              "<Figure size 1000x600 with 1 Axes>"
            ],
            "image/png": "[encoded data removed]"
          },
          "metadata": {}
        }
      ]
    },
    {
      "cell_type": "code",
      "metadata": {
        "colab": {
          "base_uri": "https://localhost:8080/"
        },
        "id": "7c9a7d15",
        "outputId": "bcaa562a-a5bc-46e7-c684-492de8ed4084"
      },
      "source": [
        "faturamento_loja1 = loja['Preço'].sum()\n",
        "faturamento_loja2 = loja2['Preço'].sum()\n",
        "faturamento_loja3 = loja3['Preço'].sum()\n",
        "faturamento_loja4 = loja4['Preço'].sum()\n",
        "\n",
        "print(f'Faturamento da Loja 1: R${faturamento_loja1:.2f}')\n",
        "print(f'Faturamento da Loja 2: R${faturamento_loja2:.2f}')\n",
        "print(f'Faturamento da Loja 3: R${faturamento_loja3:.2f}')\n",
        "print(f'Faturamento da Loja 4: R${faturamento_loja4:.2f}')"
      ],
      "execution_count": 20,
      "outputs": [
        {
          "output_type": "stream",
          "name": "stdout",
          "text": [
            "Faturamento da Loja 1: R$1534509.12\n",
            "Faturamento da Loja 2: R$1488459.06\n",
            "Faturamento da Loja 3: R$1464025.03\n",
            "Faturamento da Loja 4: R$1384497.58\n"
          ]
        }
      ]
    },
    {
      "cell_type": "code",
      "metadata": {
        "colab": {
          "base_uri": "https://localhost:8080/",
          "height": 545
        },
        "id": "0acad10e",
        "outputId": "a3111d3f-9b50-4c62-9de3-f75eb57081ca"
      },
      "source": [
        "import matplotlib.pyplot as plt\n",
        "\n",
        "faturamentos = {\n",
        "    'Loja 1': faturamento_loja1,\n",
        "    'Loja 2': faturamento_loja2,\n",
        "    'Loja 3': faturamento_loja3,\n",
        "    'Loja 4': faturamento_loja4\n",
        "}\n",
        "\n",
        "lojas = list(faturamentos.keys())\n",
        "valores = list(faturamentos.values())\n",
        "\n",
        "plt.figure(figsize=(10, 6))\n",
        "plt.bar(lojas, valores, color=['blue', 'green', 'red', 'purple'])\n",
        "plt.ylabel('Faturamento (R$)')\n",
        "plt.title('Faturamento por Loja')\n",
        "plt.show()"
      ],
      "execution_count": 21,
      "outputs": [
        {
          "output_type": "display_data",
          "data": {
            "text/plain": [
              "<Figure size 1000x600 with 1 Axes>"
            ],
            "image/png": "[encoded data removed]"
          },
          "metadata": {}
        }
      ]
    },
    {
      "cell_type": "markdown",
      "metadata": {
        "id": "c1fe4612"
      },
      "source": [
        "# Task\n",
        "Analyze the provided sales data to calculate the total revenue for each product category within each store. Then, generate visualizations (e.g., bar charts) to compare the sales performance of each category across all stores."
      ]
    },
    {
      "cell_type": "markdown",
      "metadata": {
        "id": "2faffd39"
      },
      "source": [
        "## Calcular vendas por categoria para cada loja\n",
        "\n",
        "### Subtask:\n",
        "Agrupar os dados de cada loja pela coluna 'Categoria do Produto' e somar os valores da coluna 'Preço'.\n"
      ]
    },
    {
      "cell_type": "markdown",
      "metadata": {
        "id": "29196dfb"
      },
      "source": [
        "**Reasoning**:\n",
        "Group each store's data by 'Categoria do Produto' and sum the 'Preço' to get the total revenue per category for each store.\n",
        "\n"
      ]
    },
    {
      "cell_type": "code",
      "metadata": {
        "colab": {
          "base_uri": "https://localhost:8080/",
          "height": 1000
        },
        "id": "aba83913",
        "outputId": "301bf9b0-c5bc-4c8a-b9a8-468268996844"
      },
      "source": [
        "vendas_categoria_loja1 = loja.groupby('Categoria do Produto')['Preço'].sum()\n",
        "vendas_categoria_loja2 = loja2.groupby('Categoria do Produto')['Preço'].sum()\n",
        "vendas_categoria_loja3 = loja3.groupby('Categoria do Produto')['Preço'].sum()\n",
        "vendas_categoria_loja4 = loja4.groupby('Categoria do Produto')['Preço'].sum()\n",
        "\n",
        "print(\"Vendas por Categoria - Loja 1:\")\n",
        "display(vendas_categoria_loja1)\n",
        "\n",
        "print(\"\\nVendas por Categoria - Loja 2:\")\n",
        "display(vendas_categoria_loja2)\n",
        "\n",
        "print(\"\\nVendas por Categoria - Loja 3:\")\n",
        "display(vendas_categoria_loja3)\n",
        "\n",
        "print(\"\\nVendas por Categoria - Loja 4:\")\n",
        "display(vendas_categoria_loja4)"
      ],
      "execution_count": 22,
      "outputs": [
        {
          "output_type": "stream",
          "name": "stdout",
          "text": [
            "Vendas por Categoria - Loja 1:\n"
          ]
        },
        {
          "output_type": "display_data",
          "data": {
            "text/plain": [
              "Categoria do Produto\n",
              "brinquedos                23993.78\n",
              "eletrodomesticos         484913.36\n",
              "eletronicos              572659.23\n",
              "esporte e lazer           52387.55\n",
              "instrumentos musicais    121731.69\n",
              "livros                    11713.92\n",
              "moveis                   250178.11\n",
              "utilidades domesticas     16931.48\n",
              "Name: Preço, dtype: float64"
            ],
            "text/html": [
              "<div>\n",
              "<style scoped>\n",
              "    .dataframe tbody tr th:only-of-type {\n",
              "        vertical-align: middle;\n",
              "    }\n",
              "\n",
              "    .dataframe tbody tr th {\n",
              "        vertical-align: top;\n",
              "    }\n",
              "\n",
              "    .dataframe thead th {\n",
              "        text-align: right;\n",
              "    }\n",
              "</style>\n",
              "<table border=\"1\" class=\"dataframe\">\n",
              "  <thead>\n",
              "    <tr style=\"text-align: right;\">\n",
              "      <th></th>\n",
              "      <th>Preço</th>\n",
              "    </tr>\n",
              "    <tr>\n",
              "      <th>Categoria do Produto</th>\n",
              "      <th></th>\n",
              "    </tr>\n",
              "  </thead>\n",
              "  <tbody>\n",
              "    <tr>\n",
              "      <th>brinquedos</th>\n",
              "      <td>23993.78</td>\n",
              "    </tr>\n",
              "    <tr>\n",
              "      <th>eletrodomesticos</th>\n",
              "      <td>484913.36</td>\n",
              "    </tr>\n",
              "    <tr>\n",
              "      <th>eletronicos</th>\n",
              "      <td>572659.23</td>\n",
              "    </tr>\n",
              "    <tr>\n",
              "      <th>esporte e lazer</th>\n",
              "      <td>52387.55</td>\n",
              "    </tr>\n",
              "    <tr>\n",
              "      <th>instrumentos musicais</th>\n",
              "      <td>121731.69</td>\n",
              "    </tr>\n",
              "    <tr>\n",
              "      <th>livros</th>\n",
              "      <td>11713.92</td>\n",
              "    </tr>\n",
              "    <tr>\n",
              "      <th>moveis</th>\n",
              "      <td>250178.11</td>\n",
              "    </tr>\n",
              "    <tr>\n",
              "      <th>utilidades domesticas</th>\n",
              "      <td>16931.48</td>\n",
              "    </tr>\n",
              "  </tbody>\n",
              "</table>\n",
              "</div><br><label><b>dtype:</b> float64</label>"
            ]
          },
          "metadata": {}
        },
        {
          "output_type": "stream",
          "name": "stdout",
          "text": [
            "\n",
            "Vendas por Categoria - Loja 2:\n"
          ]
        },
        {
          "output_type": "display_data",
          "data": {
            "text/plain": [
              "Categoria do Produto\n",
              "brinquedos                21262.21\n",
              "eletrodomesticos         464758.13\n",
              "eletronicos              547773.71\n",
              "esporte e lazer           46326.09\n",
              "instrumentos musicais    139987.03\n",
              "livros                    13454.35\n",
              "moveis                   235234.68\n",
              "utilidades domesticas     19662.86\n",
              "Name: Preço, dtype: float64"
            ],
            "text/html": [
              "<div>\n",
              "<style scoped>\n",
              "    .dataframe tbody tr th:only-of-type {\n",
              "        vertical-align: middle;\n",
              "    }\n",
              "\n",
              "    .dataframe tbody tr th {\n",
              "        vertical-align: top;\n",
              "    }\n",
              "\n",
              "    .dataframe thead th {\n",
              "        text-align: right;\n",
              "    }\n",
              "</style>\n",
              "<table border=\"1\" class=\"dataframe\">\n",
              "  <thead>\n",
              "    <tr style=\"text-align: right;\">\n",
              "      <th></th>\n",
              "      <th>Preço</th>\n",
              "    </tr>\n",
              "    <tr>\n",
              "      <th>Categoria do Produto</th>\n",
              "      <th></th>\n",
              "    </tr>\n",
              "  </thead>\n",
              "  <tbody>\n",
              "    <tr>\n",
              "      <th>brinquedos</th>\n",
              "      <td>21262.21</td>\n",
              "    </tr>\n",
              "    <tr>\n",
              "      <th>eletrodomesticos</th>\n",
              "      <td>464758.13</td>\n",
              "    </tr>\n",
              "    <tr>\n",
              "      <th>eletronicos</th>\n",
              "      <td>547773.71</td>\n",
              "    </tr>\n",
              "    <tr>\n",
              "      <th>esporte e lazer</th>\n",
              "      <td>46326.09</td>\n",
              "    </tr>\n",
              "    <tr>\n",
              "      <th>instrumentos musicais</th>\n",
              "      <td>139987.03</td>\n",
              "    </tr>\n",
              "    <tr>\n",
              "      <th>livros</th>\n",
              "      <td>13454.35</td>\n",
              "    </tr>\n",
              "    <tr>\n",
              "      <th>moveis</th>\n",
              "      <td>235234.68</td>\n",
              "    </tr>\n",
              "    <tr>\n",
              "      <th>utilidades domesticas</th>\n",
              "      <td>19662.86</td>\n",
              "    </tr>\n",
              "  </tbody>\n",
              "</table>\n",
              "</div><br><label><b>dtype:</b> float64</label>"
            ]
          },
          "metadata": {}
        },
        {
          "output_type": "stream",
          "name": "stdout",
          "text": [
            "\n",
            "Vendas por Categoria - Loja 3:\n"
          ]
        },
        {
          "output_type": "display_data",
          "data": {
            "text/plain": [
              "Categoria do Produto\n",
              "brinquedos                25869.20\n",
              "eletrodomesticos         438984.89\n",
              "eletronicos              547699.92\n",
              "esporte e lazer           47456.10\n",
              "instrumentos musicais    103174.45\n",
              "livros                    12664.70\n",
              "moveis                   268095.56\n",
              "utilidades domesticas     20080.21\n",
              "Name: Preço, dtype: float64"
            ],
            "text/html": [
              "<div>\n",
              "<style scoped>\n",
              "    .dataframe tbody tr th:only-of-type {\n",
              "        vertical-align: middle;\n",
              "    }\n",
              "\n",
              "    .dataframe tbody tr th {\n",
              "        vertical-align: top;\n",
              "    }\n",
              "\n",
              "    .dataframe thead th {\n",
              "        text-align: right;\n",
              "    }\n",
              "</style>\n",
              "<table border=\"1\" class=\"dataframe\">\n",
              "  <thead>\n",
              "    <tr style=\"text-align: right;\">\n",
              "      <th></th>\n",
              "      <th>Preço</th>\n",
              "    </tr>\n",
              "    <tr>\n",
              "      <th>Categoria do Produto</th>\n",
              "      <th></th>\n",
              "    </tr>\n",
              "  </thead>\n",
              "  <tbody>\n",
              "    <tr>\n",
              "      <th>brinquedos</th>\n",
              "      <td>25869.20</td>\n",
              "    </tr>\n",
              "    <tr>\n",
              "      <th>eletrodomesticos</th>\n",
              "      <td>438984.89</td>\n",
              "    </tr>\n",
              "    <tr>\n",
              "      <th>eletronicos</th>\n",
              "      <td>547699.92</td>\n",
              "    </tr>\n",
              "    <tr>\n",
              "      <th>esporte e lazer</th>\n",
              "      <td>47456.10</td>\n",
              "    </tr>\n",
              "    <tr>\n",
              "      <th>instrumentos musicais</th>\n",
              "      <td>103174.45</td>\n",
              "    </tr>\n",
              "    <tr>\n",
              "      <th>livros</th>\n",
              "      <td>12664.70</td>\n",
              "    </tr>\n",
              "    <tr>\n",
              "      <th>moveis</th>\n",
              "      <td>268095.56</td>\n",
              "    </tr>\n",
              "    <tr>\n",
              "      <th>utilidades domesticas</th>\n",
              "      <td>20080.21</td>\n",
              "    </tr>\n",
              "  </tbody>\n",
              "</table>\n",
              "</div><br><label><b>dtype:</b> float64</label>"
            ]
          },
          "metadata": {}
        },
        {
          "output_type": "stream",
          "name": "stdout",
          "text": [
            "\n",
            "Vendas por Categoria - Loja 4:\n"
          ]
        },
        {
          "output_type": "display_data",
          "data": {
            "text/plain": [
              "Categoria do Produto\n",
              "brinquedos                27015.67\n",
              "eletrodomesticos         377680.65\n",
              "eletronicos              545966.86\n",
              "esporte e lazer           44465.65\n",
              "instrumentos musicais    100136.50\n",
              "livros                    12427.77\n",
              "moveis                   256705.65\n",
              "utilidades domesticas     20098.83\n",
              "Name: Preço, dtype: float64"
            ],
            "text/html": [
              "<div>\n",
              "<style scoped>\n",
              "    .dataframe tbody tr th:only-of-type {\n",
              "        vertical-align: middle;\n",
              "    }\n",
              "\n",
              "    .dataframe tbody tr th {\n",
              "        vertical-align: top;\n",
              "    }\n",
              "\n",
              "    .dataframe thead th {\n",
              "        text-align: right;\n",
              "    }\n",
              "</style>\n",
              "<table border=\"1\" class=\"dataframe\">\n",
              "  <thead>\n",
              "    <tr style=\"text-align: right;\">\n",
              "      <th></th>\n",
              "      <th>Preço</th>\n",
              "    </tr>\n",
              "    <tr>\n",
              "      <th>Categoria do Produto</th>\n",
              "      <th></th>\n",
              "    </tr>\n",
              "  </thead>\n",
              "  <tbody>\n",
              "    <tr>\n",
              "      <th>brinquedos</th>\n",
              "      <td>27015.67</td>\n",
              "    </tr>\n",
              "    <tr>\n",
              "      <th>eletrodomesticos</th>\n",
              "      <td>377680.65</td>\n",
              "    </tr>\n",
              "    <tr>\n",
              "      <th>eletronicos</th>\n",
              "      <td>545966.86</td>\n",
              "    </tr>\n",
              "    <tr>\n",
              "      <th>esporte e lazer</th>\n",
              "      <td>44465.65</td>\n",
              "    </tr>\n",
              "    <tr>\n",
              "      <th>instrumentos musicais</th>\n",
              "      <td>100136.50</td>\n",
              "    </tr>\n",
              "    <tr>\n",
              "      <th>livros</th>\n",
              "      <td>12427.77</td>\n",
              "    </tr>\n",
              "    <tr>\n",
              "      <th>moveis</th>\n",
              "      <td>256705.65</td>\n",
              "    </tr>\n",
              "    <tr>\n",
              "      <th>utilidades domesticas</th>\n",
              "      <td>20098.83</td>\n",
              "    </tr>\n",
              "  </tbody>\n",
              "</table>\n",
              "</div><br><label><b>dtype:</b> float64</label>"
            ]
          },
          "metadata": {}
        }
      ]
    },
    {
      "cell_type": "markdown",
      "metadata": {
        "id": "abe26a55"
      },
      "source": [
        "## Combinar os dados de vendas por categoria\n",
        "\n",
        "### Subtask:\n",
        "Unir os resultados de vendas por categoria de todas as lojas em um único DataFrame para facilitar a comparação.\n"
      ]
    },
    {
      "cell_type": "markdown",
      "metadata": {
        "id": "e11e08b1"
      },
      "source": [
        "**Reasoning**:\n",
        "Concatenate the sales by category Series into a single DataFrame and rename the columns.\n",
        "\n"
      ]
    },
    {
      "cell_type": "code",
      "metadata": {
        "colab": {
          "base_uri": "https://localhost:8080/",
          "height": 238
        },
        "id": "b757f2fd",
        "outputId": "f942037e-b5f5-4639-bc18-1d46ea479fa0"
      },
      "source": [
        "vendas_por_categoria = pd.concat([vendas_categoria_loja1, vendas_categoria_loja2, vendas_categoria_loja3, vendas_categoria_loja4], axis=1)\n",
        "vendas_por_categoria.columns = ['Loja 1', 'Loja 2', 'Loja 3', 'Loja 4']\n",
        "display(vendas_por_categoria.head())"
      ],
      "execution_count": 23,
      "outputs": [
        {
          "output_type": "display_data",
          "data": {
            "text/plain": [
              "                          Loja 1     Loja 2     Loja 3     Loja 4\n",
              "Categoria do Produto                                             \n",
              "brinquedos              23993.78   21262.21   25869.20   27015.67\n",
              "eletrodomesticos       484913.36  464758.13  438984.89  377680.65\n",
              "eletronicos            572659.23  547773.71  547699.92  545966.86\n",
              "esporte e lazer         52387.55   46326.09   47456.10   44465.65\n",
              "instrumentos musicais  121731.69  139987.03  103174.45  100136.50"
            ],
            "text/html": [
              "\n",
              "  <div id=\"df-61d2658d-c74e-4785-ae31-0598cca03eaf\" class=\"colab-df-container\">\n",
              "    <div>\n",
              "<style scoped>\n",
              "    .dataframe tbody tr th:only-of-type {\n",
              "        vertical-align: middle;\n",
              "    }\n",
              "\n",
              "    .dataframe tbody tr th {\n",
              "        vertical-align: top;\n",
              "    }\n",
              "\n",
              "    .dataframe thead th {\n",
              "        text-align: right;\n",
              "    }\n",
              "</style>\n",
              "<table border=\"1\" class=\"dataframe\">\n",
              "  <thead>\n",
              "    <tr style=\"text-align: right;\">\n",
              "      <th></th>\n",
              "      <th>Loja 1</th>\n",
              "      <th>Loja 2</th>\n",
              "      <th>Loja 3</th>\n",
              "      <th>Loja 4</th>\n",
              "    </tr>\n",
              "    <tr>\n",
              "      <th>Categoria do Produto</th>\n",
              "      <th></th>\n",
              "      <th></th>\n",
              "      <th></th>\n",
              "      <th></th>\n",
              "    </tr>\n",
              "  </thead>\n",
              "  <tbody>\n",
              "    <tr>\n",
              "      <th>brinquedos</th>\n",
              "      <td>23993.78</td>\n",
              "      <td>21262.21</td>\n",
              "      <td>25869.20</td>\n",
              "      <td>27015.67</td>\n",
              "    </tr>\n",
              "    <tr>\n",
              "      <th>eletrodomesticos</th>\n",
              "      <td>484913.36</td>\n",
              "      <td>464758.13</td>\n",
              "      <td>438984.89</td>\n",
              "      <td>377680.65</td>\n",
              "    </tr>\n",
              "    <tr>\n",
              "      <th>eletronicos</th>\n",
              "      <td>572659.23</td>\n",
              "      <td>547773.71</td>\n",
              "      <td>547699.92</td>\n",
              "      <td>545966.86</td>\n",
              "    </tr>\n",
              "    <tr>\n",
              "      <th>esporte e lazer</th>\n",
              "      <td>52387.55</td>\n",
              "      <td>46326.09</td>\n",
              "      <td>47456.10</td>\n",
              "      <td>44465.65</td>\n",
              "    </tr>\n",
              "    <tr>\n",
              "      <th>instrumentos musicais</th>\n",
              "      <td>121731.69</td>\n",
              "      <td>139987.03</td>\n",
              "      <td>103174.45</td>\n",
              "      <td>100136.50</td>\n",
              "    </tr>\n",
              "  </tbody>\n",
              "</table>\n",
              "</div>\n",
              "    <div class=\"colab-df-buttons\">\n",
              "\n",
              "  <div class=\"colab-df-container\">\n",
              "    <button class=\"colab-df-convert\" onclick=\"convertToInteractive('df-61d2658d-c74e-4785-ae31-0598cca03eaf')\"\n",
              "            title=\"Convert this dataframe to an interactive table.\"\n",
              "            style=\"display:none;\">\n",
              "\n",
              "  <svg xmlns=\"http://www.w3.org/2000/svg\" height=\"24px\" viewBox=\"0 -960 960 960\">\n",
              "    <path d=\"M120-120v-720h720v720H120Zm60-500h600v-160H180v160Zm220 220h160v-160H400v160Zm0 220h160v-160H400v160ZM180-400h160v-160H180v160Zm440 0h160v-160H620v160ZM180-180h160v-160H180v160Zm440 0h160v-160H620v160Z\"/>\n",
              "  </svg>\n",
              "    </button>\n",
              "\n",
              "  <style>\n",
              "    .colab-df-container {\n",
              "      display:flex;\n",
              "      gap: 12px;\n",
              "    }\n",
              "\n",
              "    .colab-df-convert {\n",
              "      background-color: #E8F0FE;\n",
              "      border: none;\n",
              "      border-radius: 50%;\n",
              "      cursor: pointer;\n",
              "      display: none;\n",
              "      fill: #1967D2;\n",
              "      height: 32px;\n",
              "      padding: 0 0 0 0;\n",
              "      width: 32px;\n",
              "    }\n",
              "\n",
              "    .colab-df-convert:hover {\n",
              "      background-color: #E2EBFA;\n",
              "      box-shadow: 0px 1px 2px rgba(60, 64, 67, 0.3), 0px 1px 3px 1px rgba(60, 64, 67, 0.15);\n",
              "      fill: #174EA6;\n",
              "    }\n",
              "\n",
              "    .colab-df-buttons div {\n",
              "      margin-bottom: 4px;\n",
              "    }\n",
              "\n",
              "    [theme=dark] .colab-df-convert {\n",
              "      background-color: #3B4455;\n",
              "      fill: #D2E3FC;\n",
              "    }\n",
              "\n",
              "    [theme=dark] .colab-df-convert:hover {\n",
              "      background-color: #434B5C;\n",
              "      box-shadow: 0px 1px 3px 1px rgba(0, 0, 0, 0.15);\n",
              "      filter: drop-shadow(0px 1px 2px rgba(0, 0, 0, 0.3));\n",
              "      fill: #FFFFFF;\n",
              "    }\n",
              "  </style>\n",
              "\n",
              "    <script>\n",
              "      const buttonEl =\n",
              "        document.querySelector('#df-61d2658d-c74e-4785-ae31-0598cca03eaf button.colab-df-convert');\n",
              "      buttonEl.style.display =\n",
              "        google.colab.kernel.accessAllowed ? 'block' : 'none';\n",
              "\n",
              "      async function convertToInteractive(key) {\n",
              "        const element = document.querySelector('#df-61d2658d-c74e-4785-ae31-0598cca03eaf');\n",
              "        const dataTable =\n",
              "          await google.colab.kernel.invokeFunction('convertToInteractive',\n",
              "                                                    [key], {});\n",
              "        if (!dataTable) return;\n",
              "\n",
              "        const docLinkHtml = 'Like what you see? Visit the ' +\n",
              "          '<a target=\"_blank\" href=https://colab.research.google.com/notebooks/data_table.ipynb>data table notebook</a>'\n",
              "          + ' to learn more about interactive tables.';\n",
              "        element.innerHTML = '';\n",
              "        dataTable['output_type'] = 'display_data';\n",
              "        await google.colab.output.renderOutput(dataTable, element);\n",
              "        const docLink = document.createElement('div');\n",
              "        docLink.innerHTML = docLinkHtml;\n",
              "        element.appendChild(docLink);\n",
              "      }\n",
              "    </script>\n",
              "  </div>\n",
              "\n",
              "\n",
              "    <div id=\"df-39436c44-68d0-4397-a78a-80b8b08cb67f\">\n",
              "      <button class=\"colab-df-quickchart\" onclick=\"quickchart('df-39436c44-68d0-4397-a78a-80b8b08cb67f')\"\n",
              "                title=\"Suggest charts\"\n",
              "                style=\"display:none;\">\n",
              "\n",
              "<svg xmlns=\"http://www.w3.org/2000/svg\" height=\"24px\"viewBox=\"0 0 24 24\"\n",
              "     width=\"24px\">\n",
              "    <g>\n",
              "        <path d=\"M19 3H5c-1.1 0-2 .9-2 2v14c0 1.1.9 2 2 2h14c1.1 0 2-.9 2-2V5c0-1.1-.9-2-2-2zM9 17H7v-7h2v7zm4 0h-2V7h2v10zm4 0h-2v-4h2v4z\"/>\n",
              "    </g>\n",
              "</svg>\n",
              "      </button>\n",
              "\n",
              "<style>\n",
              "  .colab-df-quickchart {\n",
              "      --bg-color: #E8F0FE;\n",
              "      --fill-color: #1967D2;\n",
              "      --hover-bg-color: #E2EBFA;\n",
              "      --hover-fill-color: #174EA6;\n",
              "      --disabled-fill-color: #AAA;\n",
              "      --disabled-bg-color: #DDD;\n",
              "  }\n",
              "\n",
              "  [theme=dark] .colab-df-quickchart {\n",
              "      --bg-color: #3B4455;\n",
              "      --fill-color: #D2E3FC;\n",
              "      --hover-bg-color: #434B5C;\n",
              "      --hover-fill-color: #FFFFFF;\n",
              "      --disabled-bg-color: #3B4455;\n",
              "      --disabled-fill-color: #666;\n",
              "  }\n",
              "\n",
              "  .colab-df-quickchart {\n",
              "    background-color: var(--bg-color);\n",
              "    border: none;\n",
              "    border-radius: 50%;\n",
              "    cursor: pointer;\n",
              "    display: none;\n",
              "    fill: var(--fill-color);\n",
              "    height: 32px;\n",
              "    padding: 0;\n",
              "    width: 32px;\n",
              "  }\n",
              "\n",
              "  .colab-df-quickchart:hover {\n",
              "    background-color: var(--hover-bg-color);\n",
              "    box-shadow: 0 1px 2px rgba(60, 64, 67, 0.3), 0 1px 3px 1px rgba(60, 64, 67, 0.15);\n",
              "    fill: var(--button-hover-fill-color);\n",
              "  }\n",
              "\n",
              "  .colab-df-quickchart-complete:disabled,\n",
              "  .colab-df-quickchart-complete:disabled:hover {\n",
              "    background-color: var(--disabled-bg-color);\n",
              "    fill: var(--disabled-fill-color);\n",
              "    box-shadow: none;\n",
              "  }\n",
              "\n",
              "  .colab-df-spinner {\n",
              "    border: 2px solid var(--fill-color);\n",
              "    border-color: transparent;\n",
              "    border-bottom-color: var(--fill-color);\n",
              "    animation:\n",
              "      spin 1s steps(1) infinite;\n",
              "  }\n",
              "\n",
              "  @keyframes spin {\n",
              "    0% {\n",
              "      border-color: transparent;\n",
              "      border-bottom-color: var(--fill-color);\n",
              "      border-left-color: var(--fill-color);\n",
              "    }\n",
              "    20% {\n",
              "      border-color: transparent;\n",
              "      border-left-color: var(--fill-color);\n",
              "      border-top-color: var(--fill-color);\n",
              "    }\n",
              "    30% {\n",
              "      border-color: transparent;\n",
              "      border-left-color: var(--fill-color);\n",
              "      border-top-color: var(--fill-color);\n",
              "      border-right-color: var(--fill-color);\n",
              "    }\n",
              "    40% {\n",
              "      border-color: transparent;\n",
              "      border-right-color: var(--fill-color);\n",
              "      border-top-color: var(--fill-color);\n",
              "    }\n",
              "    60% {\n",
              "      border-color: transparent;\n",
              "      border-right-color: var(--fill-color);\n",
              "    }\n",
              "    80% {\n",
              "      border-color: transparent;\n",
              "      border-right-color: var(--fill-color);\n",
              "      border-bottom-color: var(--fill-color);\n",
              "    }\n",
              "    90% {\n",
              "      border-color: transparent;\n",
              "      border-bottom-color: var(--fill-color);\n",
              "    }\n",
              "  }\n",
              "</style>\n",
              "\n",
              "      <script>\n",
              "        async function quickchart(key) {\n",
              "          const quickchartButtonEl =\n",
              "            document.querySelector('#' + key + ' button');\n",
              "          quickchartButtonEl.disabled = true;  // To prevent multiple clicks.\n",
              "          quickchartButtonEl.classList.add('colab-df-spinner');\n",
              "          try {\n",
              "            const charts = await google.colab.kernel.invokeFunction(\n",
              "                'suggestCharts', [key], {});\n",
              "          } catch (error) {\n",
              "            console.error('Error during call to suggestCharts:', error);\n",
              "          }\n",
              "          quickchartButtonEl.classList.remove('colab-df-spinner');\n",
              "          quickchartButtonEl.classList.add('colab-df-quickchart-complete');\n",
              "        }\n",
              "        (() => {\n",
              "          let quickchartButtonEl =\n",
              "            document.querySelector('#df-39436c44-68d0-4397-a78a-80b8b08cb67f button');\n",
              "          quickchartButtonEl.style.display =\n",
              "            google.colab.kernel.accessAllowed ? 'block' : 'none';\n",
              "        })();\n",
              "      </script>\n",
              "    </div>\n",
              "\n",
              "    </div>\n",
              "  </div>\n"
            ],
            "application/vnd.google.colaboratory.intrinsic+json": {
              "type": "dataframe",
              "summary": "{\n  \"name\": \"display(vendas_por_categoria\",\n  \"rows\": 5,\n  \"fields\": [\n    {\n      \"column\": \"Categoria do Produto\",\n      \"properties\": {\n        \"dtype\": \"string\",\n        \"num_unique_values\": 5,\n        \"samples\": [\n          \"eletrodomesticos\",\n          \"instrumentos musicais\",\n          \"eletronicos\"\n        ],\n        \"semantic_type\": \"\",\n        \"description\": \"\"\n      }\n    },\n    {\n      \"column\": \"Loja 1\",\n      \"properties\": {\n        \"dtype\": \"number\",\n        \"std\": 257812.45674056126,\n        \"min\": 23993.78,\n        \"max\": 572659.23,\n        \"num_unique_values\": 5,\n        \"samples\": [\n          484913.36,\n          121731.69,\n          572659.23\n        ],\n        \"semantic_type\": \"\",\n        \"description\": \"\"\n      }\n    },\n    {\n      \"column\": \"Loja 2\",\n      \"properties\": {\n        \"dtype\": \"number\",\n        \"std\": 245213.3827241961,\n        \"min\": 21262.21,\n        \"max\": 547773.71,\n        \"num_unique_values\": 5,\n        \"samples\": [\n          464758.13,\n          139987.03,\n          547773.71\n        ],\n        \"semantic_type\": \"\",\n        \"description\": \"\"\n      }\n    },\n    {\n      \"column\": \"Loja 3\",\n      \"properties\": {\n        \"dtype\": \"number\",\n        \"std\": 242718.73432045386,\n        \"min\": 25869.2,\n        \"max\": 547699.92,\n        \"num_unique_values\": 5,\n        \"samples\": [\n          438984.89,\n          103174.45,\n          547699.92\n        ],\n        \"semantic_type\": \"\",\n        \"description\": \"\"\n      }\n    },\n    {\n      \"column\": \"Loja 4\",\n      \"properties\": {\n        \"dtype\": \"number\",\n        \"std\": 231049.57047698754,\n        \"min\": 27015.67,\n        \"max\": 545966.86,\n        \"num_unique_values\": 5,\n        \"samples\": [\n          377680.65,\n          100136.5,\n          545966.86\n        ],\n        \"semantic_type\": \"\",\n        \"description\": \"\"\n      }\n    }\n  ]\n}"
            }
          },
          "metadata": {}
        }
      ]
    },
    {
      "cell_type": "markdown",
      "metadata": {
        "id": "8edda959"
      },
      "source": [
        "## Visualizar as vendas por categoria\n",
        "\n",
        "### Subtask:\n",
        "Gerar gráficos (por exemplo, gráficos de barras agrupadas ou múltiplos gráficos de barras) para comparar as vendas por categoria entre as lojas.\n"
      ]
    },
    {
      "cell_type": "markdown",
      "metadata": {
        "id": "153254ca"
      },
      "source": [
        "**Reasoning**:\n",
        "Generate a grouped bar chart to compare sales by category across all stores using the `vendas_por_categoria` DataFrame.\n",
        "\n"
      ]
    },
    {
      "cell_type": "code",
      "metadata": {
        "colab": {
          "base_uri": "https://localhost:8080/",
          "height": 807
        },
        "id": "d0054834",
        "outputId": "9dc42f04-7689-4663-8bfe-9cc8d269db0b"
      },
      "source": [
        "vendas_por_categoria.plot(kind='bar', figsize=(12, 8))\n",
        "plt.title('Vendas por Categoria por Loja')\n",
        "plt.ylabel('Faturamento (R$)')\n",
        "plt.xlabel('Categoria do Produto')\n",
        "plt.xticks(rotation=45, ha='right')\n",
        "plt.tight_layout()\n",
        "plt.show()"
      ],
      "execution_count": 24,
      "outputs": [
        {
          "output_type": "display_data",
          "data": {
            "text/plain": [
              "<Figure size 1200x800 with 1 Axes>"
            ],
            "image/png": "[encoded data removed]"
          },
          "metadata": {}
        }
      ]
    },
    {
      "cell_type": "markdown",
      "metadata": {
        "id": "8bf361a4"
      },
      "source": [
        "## Summary:\n",
        "\n",
        "### Data Analysis Key Findings\n",
        "\n",
        "*   The total revenue for each product category was calculated for each of the four stores.\n",
        "*   The sales data by category for all stores were successfully combined into a single DataFrame for comparison.\n",
        "*   A grouped bar chart was generated to visualize and compare the sales performance of each product category across the four stores.\n",
        "\n",
        "### Insights or Next Steps\n",
        "\n",
        "*   Identify the top-performing product categories and stores to understand what drives revenue.\n",
        "*   Investigate categories with lower sales to identify potential reasons and areas for improvement.\n"
      ]
    },
    {
      "cell_type": "markdown",
      "metadata": {
        "id": "833864c1"
      },
      "source": [
        "# Task\n",
        "Generate the revenue for each store, including charts. Then, do the same for each category, including charts. Finally, calculate the average customer rating and generate pie charts for these averages."
      ]
    },
    {
      "cell_type": "markdown",
      "metadata": {
        "id": "1dedb8bf"
      },
      "source": [
        "## Calcular a média de avaliação para cada loja\n",
        "\n",
        "### Subtask:\n",
        "Calcular a média da coluna 'Avaliação da compra' para cada um dos DataFrames das lojas.\n"
      ]
    },
    {
      "cell_type": "markdown",
      "metadata": {
        "id": "b7a79b94"
      },
      "source": [
        "**Reasoning**:\n",
        "Calculate the average customer rating for each store and store the results in separate variables, then print the results.\n",
        "\n"
      ]
    },
    {
      "cell_type": "code",
      "metadata": {
        "colab": {
          "base_uri": "https://localhost:8080/"
        },
        "id": "b07817fe",
        "outputId": "ad557be8-3ffe-4c2b-a35e-005f0709e272"
      },
      "source": [
        "media_avaliacao_loja1 = loja['Avaliação da compra'].mean()\n",
        "media_avaliacao_loja2 = loja2['Avaliação da compra'].mean()\n",
        "media_avaliacao_loja3 = loja3['Avaliação da compra'].mean()\n",
        "media_avaliacao_loja4 = loja4['Avaliação da compra'].mean()\n",
        "\n",
        "print(f'Média de Avaliação da Loja 1: {media_avaliacao_loja1:.2f}')\n",
        "print(f'Média de Avaliação da Loja 2: {media_avaliacao_loja2:.2f}')\n",
        "print(f'Média de Avaliação da Loja 3: {media_avaliacao_loja3:.2f}')\n",
        "print(f'Média de Avaliação da Loja 4: {media_avaliacao_loja4:.2f}')"
      ],
      "execution_count": 25,
      "outputs": [
        {
          "output_type": "stream",
          "name": "stdout",
          "text": [
            "Média de Avaliação da Loja 1: 3.98\n",
            "Média de Avaliação da Loja 2: 4.04\n",
            "Média de Avaliação da Loja 3: 4.05\n",
            "Média de Avaliação da Loja 4: 4.00\n"
          ]
        }
      ]
    },
    {
      "cell_type": "markdown",
      "metadata": {
        "id": "e345a8b4"
      },
      "source": [
        "## Combinar as médias de avaliação\n",
        "\n",
        "### Subtask:\n",
        "Criar um DataFrame ou Series contendo a média de avaliação de cada loja para facilitar a visualização.\n"
      ]
    },
    {
      "cell_type": "markdown",
      "metadata": {
        "id": "ce34b6a7"
      },
      "source": [
        "**Reasoning**:\n",
        "Create a dictionary of average ratings for each store and convert it to a pandas Series.\n",
        "\n"
      ]
    },
    {
      "cell_type": "code",
      "metadata": {
        "colab": {
          "base_uri": "https://localhost:8080/",
          "height": 210
        },
        "id": "3957ee44",
        "outputId": "f9a6d087-a511-46ee-8b41-5d84e1c4355a"
      },
      "source": [
        "medias_avaliacao = {\n",
        "    'Loja 1': media_avaliacao_loja1,\n",
        "    'Loja 2': media_avaliacao_loja2,\n",
        "    'Loja 3': media_avaliacao_loja3,\n",
        "    'Loja 4': media_avaliacao_loja4\n",
        "}\n",
        "\n",
        "series_medias_avaliacao = pd.Series(medias_avaliacao, name='Média de Avaliação')\n",
        "display(series_medias_avaliacao)"
      ],
      "execution_count": 26,
      "outputs": [
        {
          "output_type": "display_data",
          "data": {
            "text/plain": [
              "Loja 1    3.976685\n",
              "Loja 2    4.037304\n",
              "Loja 3    4.048326\n",
              "Loja 4    3.995759\n",
              "Name: Média de Avaliação, dtype: float64"
            ],
            "text/html": [
              "<div>\n",
              "<style scoped>\n",
              "    .dataframe tbody tr th:only-of-type {\n",
              "        vertical-align: middle;\n",
              "    }\n",
              "\n",
              "    .dataframe tbody tr th {\n",
              "        vertical-align: top;\n",
              "    }\n",
              "\n",
              "    .dataframe thead th {\n",
              "        text-align: right;\n",
              "    }\n",
              "</style>\n",
              "<table border=\"1\" class=\"dataframe\">\n",
              "  <thead>\n",
              "    <tr style=\"text-align: right;\">\n",
              "      <th></th>\n",
              "      <th>Média de Avaliação</th>\n",
              "    </tr>\n",
              "  </thead>\n",
              "  <tbody>\n",
              "    <tr>\n",
              "      <th>Loja 1</th>\n",
              "      <td>3.976685</td>\n",
              "    </tr>\n",
              "    <tr>\n",
              "      <th>Loja 2</th>\n",
              "      <td>4.037304</td>\n",
              "    </tr>\n",
              "    <tr>\n",
              "      <th>Loja 3</th>\n",
              "      <td>4.048326</td>\n",
              "    </tr>\n",
              "    <tr>\n",
              "      <th>Loja 4</th>\n",
              "      <td>3.995759</td>\n",
              "    </tr>\n",
              "  </tbody>\n",
              "</table>\n",
              "</div><br><label><b>dtype:</b> float64</label>"
            ]
          },
          "metadata": {}
        }
      ]
    },
    {
      "cell_type": "markdown",
      "metadata": {
        "id": "d4fb7562"
      },
      "source": [
        "## Visualizar as médias de avaliação\n",
        "\n",
        "### Subtask:\n",
        "Gerar gráficos (por exemplo, gráficos de barras agrupadas ou múltiplos gráficos de barras) para comparar as vendas por categoria entre as lojas.\n"
      ]
    },
    {
      "cell_type": "markdown",
      "metadata": {
        "id": "6a0c2330"
      },
      "source": [
        "**Reasoning**:\n",
        "Generate a pie chart to visualize the average customer ratings for each store using the combined Series.\n",
        "\n"
      ]
    },
    {
      "cell_type": "code",
      "metadata": {
        "colab": {
          "base_uri": "https://localhost:8080/",
          "height": 675
        },
        "id": "d38b7129",
        "outputId": "257b5602-5d05-4e82-cbd8-fadddf48da5e"
      },
      "source": [
        "import matplotlib.pyplot as plt\n",
        "\n",
        "fig = plt.figure(figsize=(8, 8))\n",
        "ax = fig.add_subplot(111)\n",
        "ax.pie(series_medias_avaliacao, labels=series_medias_avaliacao.index, autopct='%1.1f%%', startangle=90)\n",
        "ax.set_title('Média de Avaliação por Loja')\n",
        "ax.axis('equal')\n",
        "plt.show()"
      ],
      "execution_count": 27,
      "outputs": [
        {
          "output_type": "display_data",
          "data": {
            "text/plain": [
              "<Figure size 800x800 with 1 Axes>"
            ],
            "image/png": "[encoded data removed]"
          },
          "metadata": {}
        }
      ]
    },
    {
      "cell_type": "markdown",
      "metadata": {
        "id": "e4b8d69a"
      },
      "source": [
        "## Summary:\n",
        "\n",
        "### Data Analysis Key Findings\n",
        "\n",
        "*   The average customer ratings for the stores are: Loja 1: 3.98, Loja 2: 4.04, Loja 3: 4.05, and Loja 4: 4.00.\n",
        "*   A pandas Series was created to store the average customer ratings for each store, providing a clear representation of the data.\n",
        "*   A pie chart was successfully generated to visualize the average customer rating for each store, allowing for easy comparison.\n",
        "\n",
        "### Insights or Next Steps\n",
        "\n",
        "*   The average customer ratings across all stores are relatively close, indicating consistent customer satisfaction levels.\n",
        "*   Further analysis could involve investigating the factors influencing customer ratings to identify areas for improvement or best practices to be shared across stores.\n"
      ]
    },
    {
      "cell_type": "markdown",
      "metadata": {
        "id": "de43ef81"
      },
      "source": [
        "# Task\n",
        "Analyze the provided sales data from multiple stores to calculate the total sales quantity for each product across all stores, identify the top and bottom selling products based on these quantities, and generate pie charts to visualize the proportion of sales for the most and least sold products. The analysis should be performed on the data contained in the files \"varejo_centro.xlsx\", \"varejo_oeste.xlsx\", \"varejo_leste.xlsx\", and \"varejo_norte.xlsx\"."
      ]
    },
    {
      "cell_type": "markdown",
      "metadata": {
        "id": "bd9e816b"
      },
      "source": [
        "## Calcular a quantidade vendida de cada produto por loja\n",
        "\n",
        "### Subtask:\n",
        "Calcular a quantidade vendida de cada produto por loja\n"
      ]
    },
    {
      "cell_type": "markdown",
      "metadata": {
        "id": "a126548e"
      },
      "source": [
        "**Reasoning**:\n",
        "Group each store's data by 'Produto' and count the occurrences to get the quantity sold per product for each store. Store these results in separate Series and display them.\n",
        "\n"
      ]
    },
    {
      "cell_type": "code",
      "metadata": {
        "colab": {
          "base_uri": "https://localhost:8080/",
          "height": 1000
        },
        "id": "324d0298",
        "outputId": "311870cf-a9d9-4fed-ce7e-5fbc133521bc"
      },
      "source": [
        "quantidade_vendida_loja1 = loja.groupby('Produto').size()\n",
        "quantidade_vendida_loja2 = loja2.groupby('Produto').size()\n",
        "quantidade_vendida_loja3 = loja3.groupby('Produto').size()\n",
        "quantidade_vendida_loja4 = loja4.groupby('Produto').size()\n",
        "\n",
        "print(\"Quantidade Vendida por Produto - Loja 1:\")\n",
        "display(quantidade_vendida_loja1)\n",
        "\n",
        "print(\"\\nQuantidade Vendida por Produto - Loja 2:\")\n",
        "display(quantidade_vendida_loja2)\n",
        "\n",
        "print(\"\\nQuantidade Vendida por Produto - Loja 3:\")\n",
        "display(quantidade_vendida_loja3)\n",
        "\n",
        "print(\"\\nQuantidade Vendida por Produto - Loja 4:\")\n",
        "display(quantidade_vendida_loja4)"
      ],
      "execution_count": 28,
      "outputs": [
        {
          "output_type": "stream",
          "name": "stdout",
          "text": [
            "Quantidade Vendida por Produto - Loja 1:\n"
          ]
        },
        {
          "output_type": "display_data",
          "data": {
            "text/plain": [
              "Produto\n",
              "Assistente virtual             40\n",
              "Bateria                        53\n",
              "Bicicleta                      54\n",
              "Blocos de montar               56\n",
              "Bola de basquete               55\n",
              "Bola de vôlei                  42\n",
              "Boneca bebê                    40\n",
              "Cadeira de escritório          46\n",
              "Cama box                       44\n",
              "Cama king                      44\n",
              "Carrinho controle remoto       52\n",
              "Celular ABXY                   33\n",
              "Celular Plus X42               49\n",
              "Ciência de dados com python    39\n",
              "Copo térmico                   54\n",
              "Corda de pular                 40\n",
              "Cubo mágico 8x8                44\n",
              "Cômoda                         56\n",
              "Dashboards com Power BI        42\n",
              "Dinossauro Rex                 40\n",
              "Faqueiro                       52\n",
              "Fogão                          45\n",
              "Fone de ouvido                 50\n",
              "Geladeira                      54\n",
              "Guarda roupas                  60\n",
              "Guitarra                       47\n",
              "Headset                        33\n",
              "Impressora                     54\n",
              "Iniciando em programação       41\n",
              "Jogo de copos                  41\n",
              "Jogo de panelas                43\n",
              "Jogo de tabuleiro              43\n",
              "Kit banquetas                  44\n",
              "Lava louças                    48\n",
              "Lavadora de roupas             47\n",
              "Mesa de centro                 44\n",
              "Mesa de jantar                 40\n",
              "Micro-ondas                    60\n",
              "Mochila                        39\n",
              "Modelagem preditiva            51\n",
              "Pandeiro                       36\n",
              "Panela de pressão              35\n",
              "Poltrona                       41\n",
              "Secadora de roupas             58\n",
              "Smart TV                       44\n",
              "Smartwatch                     43\n",
              "Sofá retrátil                  46\n",
              "TV Led UHD 4K                  60\n",
              "Tablet ABXY                    42\n",
              "Violão                         46\n",
              "Xadrez de madeira              49\n",
              "dtype: int64"
            ],
            "text/html": [
              "<div>\n",
              "<style scoped>\n",
              "    .dataframe tbody tr th:only-of-type {\n",
              "        vertical-align: middle;\n",
              "    }\n",
              "\n",
              "    .dataframe tbody tr th {\n",
              "        vertical-align: top;\n",
              "    }\n",
              "\n",
              "    .dataframe thead th {\n",
              "        text-align: right;\n",
              "    }\n",
              "</style>\n",
              "<table border=\"1\" class=\"dataframe\">\n",
              "  <thead>\n",
              "    <tr style=\"text-align: right;\">\n",
              "      <th></th>\n",
              "      <th>0</th>\n",
              "    </tr>\n",
              "    <tr>\n",
              "      <th>Produto</th>\n",
              "      <th></th>\n",
              "    </tr>\n",
              "  </thead>\n",
              "  <tbody>\n",
              "    <tr>\n",
              "      <th>Assistente virtual</th>\n",
              "      <td>40</td>\n",
              "    </tr>\n",
              "    <tr>\n",
              "      <th>Bateria</th>\n",
              "      <td>53</td>\n",
              "    </tr>\n",
              "    <tr>\n",
              "      <th>Bicicleta</th>\n",
              "      <td>54</td>\n",
              "    </tr>\n",
              "    <tr>\n",
              "      <th>Blocos de montar</th>\n",
              "      <td>56</td>\n",
              "    </tr>\n",
              "    <tr>\n",
              "      <th>Bola de basquete</th>\n",
              "      <td>55</td>\n",
              "    </tr>\n",
              "    <tr>\n",
              "      <th>Bola de vôlei</th>\n",
              "      <td>42</td>\n",
              "    </tr>\n",
              "    <tr>\n",
              "      <th>Boneca bebê</th>\n",
              "      <td>40</td>\n",
              "    </tr>\n",
              "    <tr>\n",
              "      <th>Cadeira de escritório</th>\n",
              "      <td>46</td>\n",
              "    </tr>\n",
              "    <tr>\n",
              "      <th>Cama box</th>\n",
              "      <td>44</td>\n",
              "    </tr>\n",
              "    <tr>\n",
              "      <th>Cama king</th>\n",
              "      <td>44</td>\n",
              "    </tr>\n",
              "    <tr>\n",
              "      <th>Carrinho controle remoto</th>\n",
              "      <td>52</td>\n",
              "    </tr>\n",
              "    <tr>\n",
              "      <th>Celular ABXY</th>\n",
              "      <td>33</td>\n",
              "    </tr>\n",
              "    <tr>\n",
              "      <th>Celular Plus X42</th>\n",
              "      <td>49</td>\n",
              "    </tr>\n",
              "    <tr>\n",
              "      <th>Ciência de dados com python</th>\n",
              "      <td>39</td>\n",
              "    </tr>\n",
              "    <tr>\n",
              "      <th>Copo térmico</th>\n",
              "      <td>54</td>\n",
              "    </tr>\n",
              "    <tr>\n",
              "      <th>Corda de pular</th>\n",
              "      <td>40</td>\n",
              "    </tr>\n",
              "    <tr>\n",
              "      <th>Cubo mágico 8x8</th>\n",
              "      <td>44</td>\n",
              "    </tr>\n",
              "    <tr>\n",
              "      <th>Cômoda</th>\n",
              "      <td>56</td>\n",
              "    </tr>\n",
              "    <tr>\n",
              "      <th>Dashboards com Power BI</th>\n",
              "      <td>42</td>\n",
              "    </tr>\n",
              "    <tr>\n",
              "      <th>Dinossauro Rex</th>\n",
              "      <td>40</td>\n",
              "    </tr>\n",
              "    <tr>\n",
              "      <th>Faqueiro</th>\n",
              "      <td>52</td>\n",
              "    </tr>\n",
              "    <tr>\n",
              "      <th>Fogão</th>\n",
              "      <td>45</td>\n",
              "    </tr>\n",
              "    <tr>\n",
              "      <th>Fone de ouvido</th>\n",
              "      <td>50</td>\n",
              "    </tr>\n",
              "    <tr>\n",
              "      <th>Geladeira</th>\n",
              "      <td>54</td>\n",
              "    </tr>\n",
              "    <tr>\n",
              "      <th>Guarda roupas</th>\n",
              "      <td>60</td>\n",
              "    </tr>\n",
              "    <tr>\n",
              "      <th>Guitarra</th>\n",
              "      <td>47</td>\n",
              "    </tr>\n",
              "    <tr>\n",
              "      <th>Headset</th>\n",
              "      <td>33</td>\n",
              "    </tr>\n",
              "    <tr>\n",
              "      <th>Impressora</th>\n",
              "      <td>54</td>\n",
              "    </tr>\n",
              "    <tr>\n",
              "      <th>Iniciando em programação</th>\n",
              "      <td>41</td>\n",
              "    </tr>\n",
              "    <tr>\n",
              "      <th>Jogo de copos</th>\n",
              "      <td>41</td>\n",
              "    </tr>\n",
              "    <tr>\n",
              "      <th>Jogo de panelas</th>\n",
              "      <td>43</td>\n",
              "    </tr>\n",
              "    <tr>\n",
              "      <th>Jogo de tabuleiro</th>\n",
              "      <td>43</td>\n",
              "    </tr>\n",
              "    <tr>\n",
              "      <th>Kit banquetas</th>\n",
              "      <td>44</td>\n",
              "    </tr>\n",
              "    <tr>\n",
              "      <th>Lava louças</th>\n",
              "      <td>48</td>\n",
              "    </tr>\n",
              "    <tr>\n",
              "      <th>Lavadora de roupas</th>\n",
              "      <td>47</td>\n",
              "    </tr>\n",
              "    <tr>\n",
              "      <th>Mesa de centro</th>\n",
              "      <td>44</td>\n",
              "    </tr>\n",
              "    <tr>\n",
              "      <th>Mesa de jantar</th>\n",
              "      <td>40</td>\n",
              "    </tr>\n",
              "    <tr>\n",
              "      <th>Micro-ondas</th>\n",
              "      <td>60</td>\n",
              "    </tr>\n",
              "    <tr>\n",
              "      <th>Mochila</th>\n",
              "      <td>39</td>\n",
              "    </tr>\n",
              "    <tr>\n",
              "      <th>Modelagem preditiva</th>\n",
              "      <td>51</td>\n",
              "    </tr>\n",
              "    <tr>\n",
              "      <th>Pandeiro</th>\n",
              "      <td>36</td>\n",
              "    </tr>\n",
              "    <tr>\n",
              "      <th>Panela de pressão</th>\n",
              "      <td>35</td>\n",
              "    </tr>\n",
              "    <tr>\n",
              "      <th>Poltrona</th>\n",
              "      <td>41</td>\n",
              "    </tr>\n",
              "    <tr>\n",
              "      <th>Secadora de roupas</th>\n",
              "      <td>58</td>\n",
              "    </tr>\n",
              "    <tr>\n",
              "      <th>Smart TV</th>\n",
              "      <td>44</td>\n",
              "    </tr>\n",
              "    <tr>\n",
              "      <th>Smartwatch</th>\n",
              "      <td>43</td>\n",
              "    </tr>\n",
              "    <tr>\n",
              "      <th>Sofá retrátil</th>\n",
              "      <td>46</td>\n",
              "    </tr>\n",
              "    <tr>\n",
              "      <th>TV Led UHD 4K</th>\n",
              "      <td>60</td>\n",
              "    </tr>\n",
              "    <tr>\n",
              "      <th>Tablet ABXY</th>\n",
              "      <td>42</td>\n",
              "    </tr>\n",
              "    <tr>\n",
              "      <th>Violão</th>\n",
              "      <td>46</td>\n",
              "    </tr>\n",
              "    <tr>\n",
              "      <th>Xadrez de madeira</th>\n",
              "      <td>49</td>\n",
              "    </tr>\n",
              "  </tbody>\n",
              "</table>\n",
              "</div><br><label><b>dtype:</b> int64</label>"
            ]
          },
          "metadata": {}
        },
        {
          "output_type": "stream",
          "name": "stdout",
          "text": [
            "\n",
            "Quantidade Vendida por Produto - Loja 2:\n"
          ]
        },
        {
          "output_type": "display_data",
          "data": {
            "text/plain": [
              "Produto\n",
              "Assistente virtual             38\n",
              "Bateria                        61\n",
              "Bicicleta                      45\n",
              "Blocos de montar               54\n",
              "Bola de basquete               42\n",
              "Bola de vôlei                  46\n",
              "Boneca bebê                    48\n",
              "Cadeira de escritório          49\n",
              "Cama box                       47\n",
              "Cama king                      45\n",
              "Carrinho controle remoto       47\n",
              "Celular ABXY                   41\n",
              "Celular Plus X42               55\n",
              "Ciência de dados com python    43\n",
              "Copo térmico                   47\n",
              "Corda de pular                 50\n",
              "Cubo mágico 8x8                45\n",
              "Cômoda                         44\n",
              "Dashboards com Power BI        43\n",
              "Dinossauro Rex                 42\n",
              "Faqueiro                       39\n",
              "Fogão                          42\n",
              "Fone de ouvido                 37\n",
              "Geladeira                      49\n",
              "Guarda roupas                  54\n",
              "Guitarra                       47\n",
              "Headset                        44\n",
              "Impressora                     34\n",
              "Iniciando em programação       65\n",
              "Jogo de copos                  46\n",
              "Jogo de panelas                52\n",
              "Jogo de tabuleiro              32\n",
              "Kit banquetas                  45\n",
              "Lava louças                    46\n",
              "Lavadora de roupas             49\n",
              "Mesa de centro                 45\n",
              "Mesa de jantar                 34\n",
              "Micro-ondas                    62\n",
              "Mochila                        45\n",
              "Modelagem preditiva            46\n",
              "Pandeiro                       58\n",
              "Panela de pressão              44\n",
              "Poltrona                       35\n",
              "Secadora de roupas             57\n",
              "Smart TV                       40\n",
              "Smartwatch                     44\n",
              "Sofá retrátil                  44\n",
              "TV Led UHD 4K                  45\n",
              "Tablet ABXY                    44\n",
              "Violão                         58\n",
              "Xadrez de madeira              45\n",
              "dtype: int64"
            ],
            "text/html": [
              "<div>\n",
              "<style scoped>\n",
              "    .dataframe tbody tr th:only-of-type {\n",
              "        vertical-align: middle;\n",
              "    }\n",
              "\n",
              "    .dataframe tbody tr th {\n",
              "        vertical-align: top;\n",
              "    }\n",
              "\n",
              "    .dataframe thead th {\n",
              "        text-align: right;\n",
              "    }\n",
              "</style>\n",
              "<table border=\"1\" class=\"dataframe\">\n",
              "  <thead>\n",
              "    <tr style=\"text-align: right;\">\n",
              "      <th></th>\n",
              "      <th>0</th>\n",
              "    </tr>\n",
              "    <tr>\n",
              "      <th>Produto</th>\n",
              "      <th></th>\n",
              "    </tr>\n",
              "  </thead>\n",
              "  <tbody>\n",
              "    <tr>\n",
              "      <th>Assistente virtual</th>\n",
              "      <td>38</td>\n",
              "    </tr>\n",
              "    <tr>\n",
              "      <th>Bateria</th>\n",
              "      <td>61</td>\n",
              "    </tr>\n",
              "    <tr>\n",
              "      <th>Bicicleta</th>\n",
              "      <td>45</td>\n",
              "    </tr>\n",
              "    <tr>\n",
              "      <th>Blocos de montar</th>\n",
              "      <td>54</td>\n",
              "    </tr>\n",
              "    <tr>\n",
              "      <th>Bola de basquete</th>\n",
              "      <td>42</td>\n",
              "    </tr>\n",
              "    <tr>\n",
              "      <th>Bola de vôlei</th>\n",
              "      <td>46</td>\n",
              "    </tr>\n",
              "    <tr>\n",
              "      <th>Boneca bebê</th>\n",
              "      <td>48</td>\n",
              "    </tr>\n",
              "    <tr>\n",
              "      <th>Cadeira de escritório</th>\n",
              "      <td>49</td>\n",
              "    </tr>\n",
              "    <tr>\n",
              "      <th>Cama box</th>\n",
              "      <td>47</td>\n",
              "    </tr>\n",
              "    <tr>\n",
              "      <th>Cama king</th>\n",
              "      <td>45</td>\n",
              "    </tr>\n",
              "    <tr>\n",
              "      <th>Carrinho controle remoto</th>\n",
              "      <td>47</td>\n",
              "    </tr>\n",
              "    <tr>\n",
              "      <th>Celular ABXY</th>\n",
              "      <td>41</td>\n",
              "    </tr>\n",
              "    <tr>\n",
              "      <th>Celular Plus X42</th>\n",
              "      <td>55</td>\n",
              "    </tr>\n",
              "    <tr>\n",
              "      <th>Ciência de dados com python</th>\n",
              "      <td>43</td>\n",
              "    </tr>\n",
              "    <tr>\n",
              "      <th>Copo térmico</th>\n",
              "      <td>47</td>\n",
              "    </tr>\n",
              "    <tr>\n",
              "      <th>Corda de pular</th>\n",
              "      <td>50</td>\n",
              "    </tr>\n",
              "    <tr>\n",
              "      <th>Cubo mágico 8x8</th>\n",
              "      <td>45</td>\n",
              "    </tr>\n",
              "    <tr>\n",
              "      <th>Cômoda</th>\n",
              "      <td>44</td>\n",
              "    </tr>\n",
              "    <tr>\n",
              "      <th>Dashboards com Power BI</th>\n",
              "      <td>43</td>\n",
              "    </tr>\n",
              "    <tr>\n",
              "      <th>Dinossauro Rex</th>\n",
              "      <td>42</td>\n",
              "    </tr>\n",
              "    <tr>\n",
              "      <th>Faqueiro</th>\n",
              "      <td>39</td>\n",
              "    </tr>\n",
              "    <tr>\n",
              "      <th>Fogão</th>\n",
              "      <td>42</td>\n",
              "    </tr>\n",
              "    <tr>\n",
              "      <th>Fone de ouvido</th>\n",
              "      <td>37</td>\n",
              "    </tr>\n",
              "    <tr>\n",
              "      <th>Geladeira</th>\n",
              "      <td>49</td>\n",
              "    </tr>\n",
              "    <tr>\n",
              "      <th>Guarda roupas</th>\n",
              "      <td>54</td>\n",
              "    </tr>\n",
              "    <tr>\n",
              "      <th>Guitarra</th>\n",
              "      <td>47</td>\n",
              "    </tr>\n",
              "    <tr>\n",
              "      <th>Headset</th>\n",
              "      <td>44</td>\n",
              "    </tr>\n",
              "    <tr>\n",
              "      <th>Impressora</th>\n",
              "      <td>34</td>\n",
              "    </tr>\n",
              "    <tr>\n",
              "      <th>Iniciando em programação</th>\n",
              "      <td>65</td>\n",
              "    </tr>\n",
              "    <tr>\n",
              "      <th>Jogo de copos</th>\n",
              "      <td>46</td>\n",
              "    </tr>\n",
              "    <tr>\n",
              "      <th>Jogo de panelas</th>\n",
              "      <td>52</td>\n",
              "    </tr>\n",
              "    <tr>\n",
              "      <th>Jogo de tabuleiro</th>\n",
              "      <td>32</td>\n",
              "    </tr>\n",
              "    <tr>\n",
              "      <th>Kit banquetas</th>\n",
              "      <td>45</td>\n",
              "    </tr>\n",
              "    <tr>\n",
              "      <th>Lava louças</th>\n",
              "      <td>46</td>\n",
              "    </tr>\n",
              "    <tr>\n",
              "      <th>Lavadora de roupas</th>\n",
              "      <td>49</td>\n",
              "    </tr>\n",
              "    <tr>\n",
              "      <th>Mesa de centro</th>\n",
              "      <td>45</td>\n",
              "    </tr>\n",
              "    <tr>\n",
              "      <th>Mesa de jantar</th>\n",
              "      <td>34</td>\n",
              "    </tr>\n",
              "    <tr>\n",
              "      <th>Micro-ondas</th>\n",
              "      <td>62</td>\n",
              "    </tr>\n",
              "    <tr>\n",
              "      <th>Mochila</th>\n",
              "      <td>45</td>\n",
              "    </tr>\n",
              "    <tr>\n",
              "      <th>Modelagem preditiva</th>\n",
              "      <td>46</td>\n",
              "    </tr>\n",
              "    <tr>\n",
              "      <th>Pandeiro</th>\n",
              "      <td>58</td>\n",
              "    </tr>\n",
              "    <tr>\n",
              "      <th>Panela de pressão</th>\n",
              "      <td>44</td>\n",
              "    </tr>\n",
              "    <tr>\n",
              "      <th>Poltrona</th>\n",
              "      <td>35</td>\n",
              "    </tr>\n",
              "    <tr>\n",
              "      <th>Secadora de roupas</th>\n",
              "      <td>57</td>\n",
              "    </tr>\n",
              "    <tr>\n",
              "      <th>Smart TV</th>\n",
              "      <td>40</td>\n",
              "    </tr>\n",
              "    <tr>\n",
              "      <th>Smartwatch</th>\n",
              "      <td>44</td>\n",
              "    </tr>\n",
              "    <tr>\n",
              "      <th>Sofá retrátil</th>\n",
              "      <td>44</td>\n",
              "    </tr>\n",
              "    <tr>\n",
              "      <th>TV Led UHD 4K</th>\n",
              "      <td>45</td>\n",
              "    </tr>\n",
              "    <tr>\n",
              "      <th>Tablet ABXY</th>\n",
              "      <td>44</td>\n",
              "    </tr>\n",
              "    <tr>\n",
              "      <th>Violão</th>\n",
              "      <td>58</td>\n",
              "    </tr>\n",
              "    <tr>\n",
              "      <th>Xadrez de madeira</th>\n",
              "      <td>45</td>\n",
              "    </tr>\n",
              "  </tbody>\n",
              "</table>\n",
              "</div><br><label><b>dtype:</b> int64</label>"
            ]
          },
          "metadata": {}
        },
        {
          "output_type": "stream",
          "name": "stdout",
          "text": [
            "\n",
            "Quantidade Vendida por Produto - Loja 3:\n"
          ]
        },
        {
          "output_type": "display_data",
          "data": {
            "text/plain": [
              "Produto\n",
              "Assistente virtual             39\n",
              "Bateria                        41\n",
              "Bicicleta                      52\n",
              "Blocos de montar               35\n",
              "Bola de basquete               50\n",
              "Bola de vôlei                  48\n",
              "Boneca bebê                    39\n",
              "Cadeira de escritório          46\n",
              "Cama box                       46\n",
              "Cama king                      56\n",
              "Carrinho controle remoto       52\n",
              "Celular ABXY                   44\n",
              "Celular Plus X42               46\n",
              "Ciência de dados com python    46\n",
              "Copo térmico                   38\n",
              "Corda de pular                 53\n",
              "Cubo mágico 8x8                44\n",
              "Cômoda                         55\n",
              "Dashboards com Power BI        40\n",
              "Dinossauro Rex                 46\n",
              "Faqueiro                       39\n",
              "Fogão                          53\n",
              "Fone de ouvido                 43\n",
              "Geladeira                      50\n",
              "Guarda roupas                  49\n",
              "Guitarra                       38\n",
              "Headset                        39\n",
              "Impressora                     50\n",
              "Iniciando em programação       46\n",
              "Jogo de copos                  36\n",
              "Jogo de panelas                55\n",
              "Jogo de tabuleiro              52\n",
              "Kit banquetas                  57\n",
              "Lava louças                    52\n",
              "Lavadora de roupas             42\n",
              "Mesa de centro                 42\n",
              "Mesa de jantar                 56\n",
              "Micro-ondas                    36\n",
              "Mochila                        36\n",
              "Modelagem preditiva            53\n",
              "Pandeiro                       51\n",
              "Panela de pressão              47\n",
              "Poltrona                       47\n",
              "Secadora de roupas             45\n",
              "Smart TV                       54\n",
              "Smartwatch                     46\n",
              "Sofá retrátil                  45\n",
              "TV Led UHD 4K                  42\n",
              "Tablet ABXY                    48\n",
              "Violão                         47\n",
              "Xadrez de madeira              47\n",
              "dtype: int64"
            ],
            "text/html": [
              "<div>\n",
              "<style scoped>\n",
              "    .dataframe tbody tr th:only-of-type {\n",
              "        vertical-align: middle;\n",
              "    }\n",
              "\n",
              "    .dataframe tbody tr th {\n",
              "        vertical-align: top;\n",
              "    }\n",
              "\n",
              "    .dataframe thead th {\n",
              "        text-align: right;\n",
              "    }\n",
              "</style>\n",
              "<table border=\"1\" class=\"dataframe\">\n",
              "  <thead>\n",
              "    <tr style=\"text-align: right;\">\n",
              "      <th></th>\n",
              "      <th>0</th>\n",
              "    </tr>\n",
              "    <tr>\n",
              "      <th>Produto</th>\n",
              "      <th></th>\n",
              "    </tr>\n",
              "  </thead>\n",
              "  <tbody>\n",
              "    <tr>\n",
              "      <th>Assistente virtual</th>\n",
              "      <td>39</td>\n",
              "    </tr>\n",
              "    <tr>\n",
              "      <th>Bateria</th>\n",
              "      <td>41</td>\n",
              "    </tr>\n",
              "    <tr>\n",
              "      <th>Bicicleta</th>\n",
              "      <td>52</td>\n",
              "    </tr>\n",
              "    <tr>\n",
              "      <th>Blocos de montar</th>\n",
              "      <td>35</td>\n",
              "    </tr>\n",
              "    <tr>\n",
              "      <th>Bola de basquete</th>\n",
              "      <td>50</td>\n",
              "    </tr>\n",
              "    <tr>\n",
              "      <th>Bola de vôlei</th>\n",
              "      <td>48</td>\n",
              "    </tr>\n",
              "    <tr>\n",
              "      <th>Boneca bebê</th>\n",
              "      <td>39</td>\n",
              "    </tr>\n",
              "    <tr>\n",
              "      <th>Cadeira de escritório</th>\n",
              "      <td>46</td>\n",
              "    </tr>\n",
              "    <tr>\n",
              "      <th>Cama box</th>\n",
              "      <td>46</td>\n",
              "    </tr>\n",
              "    <tr>\n",
              "      <th>Cama king</th>\n",
              "      <td>56</td>\n",
              "    </tr>\n",
              "    <tr>\n",
              "      <th>Carrinho controle remoto</th>\n",
              "      <td>52</td>\n",
              "    </tr>\n",
              "    <tr>\n",
              "      <th>Celular ABXY</th>\n",
              "      <td>44</td>\n",
              "    </tr>\n",
              "    <tr>\n",
              "      <th>Celular Plus X42</th>\n",
              "      <td>46</td>\n",
              "    </tr>\n",
              "    <tr>\n",
              "      <th>Ciência de dados com python</th>\n",
              "      <td>46</td>\n",
              "    </tr>\n",
              "    <tr>\n",
              "      <th>Copo térmico</th>\n",
              "      <td>38</td>\n",
              "    </tr>\n",
              "    <tr>\n",
              "      <th>Corda de pular</th>\n",
              "      <td>53</td>\n",
              "    </tr>\n",
              "    <tr>\n",
              "      <th>Cubo mágico 8x8</th>\n",
              "      <td>44</td>\n",
              "    </tr>\n",
              "    <tr>\n",
              "      <th>Cômoda</th>\n",
              "      <td>55</td>\n",
              "    </tr>\n",
              "    <tr>\n",
              "      <th>Dashboards com Power BI</th>\n",
              "      <td>40</td>\n",
              "    </tr>\n",
              "    <tr>\n",
              "      <th>Dinossauro Rex</th>\n",
              "      <td>46</td>\n",
              "    </tr>\n",
              "    <tr>\n",
              "      <th>Faqueiro</th>\n",
              "      <td>39</td>\n",
              "    </tr>\n",
              "    <tr>\n",
              "      <th>Fogão</th>\n",
              "      <td>53</td>\n",
              "    </tr>\n",
              "    <tr>\n",
              "      <th>Fone de ouvido</th>\n",
              "      <td>43</td>\n",
              "    </tr>\n",
              "    <tr>\n",
              "      <th>Geladeira</th>\n",
              "      <td>50</td>\n",
              "    </tr>\n",
              "    <tr>\n",
              "      <th>Guarda roupas</th>\n",
              "      <td>49</td>\n",
              "    </tr>\n",
              "    <tr>\n",
              "      <th>Guitarra</th>\n",
              "      <td>38</td>\n",
              "    </tr>\n",
              "    <tr>\n",
              "      <th>Headset</th>\n",
              "      <td>39</td>\n",
              "    </tr>\n",
              "    <tr>\n",
              "      <th>Impressora</th>\n",
              "      <td>50</td>\n",
              "    </tr>\n",
              "    <tr>\n",
              "      <th>Iniciando em programação</th>\n",
              "      <td>46</td>\n",
              "    </tr>\n",
              "    <tr>\n",
              "      <th>Jogo de copos</th>\n",
              "      <td>36</td>\n",
              "    </tr>\n",
              "    <tr>\n",
              "      <th>Jogo de panelas</th>\n",
              "      <td>55</td>\n",
              "    </tr>\n",
              "    <tr>\n",
              "      <th>Jogo de tabuleiro</th>\n",
              "      <td>52</td>\n",
              "    </tr>\n",
              "    <tr>\n",
              "      <th>Kit banquetas</th>\n",
              "      <td>57</td>\n",
              "    </tr>\n",
              "    <tr>\n",
              "      <th>Lava louças</th>\n",
              "      <td>52</td>\n",
              "    </tr>\n",
              "    <tr>\n",
              "      <th>Lavadora de roupas</th>\n",
              "      <td>42</td>\n",
              "    </tr>\n",
              "    <tr>\n",
              "      <th>Mesa de centro</th>\n",
              "      <td>42</td>\n",
              "    </tr>\n",
              "    <tr>\n",
              "      <th>Mesa de jantar</th>\n",
              "      <td>56</td>\n",
              "    </tr>\n",
              "    <tr>\n",
              "      <th>Micro-ondas</th>\n",
              "      <td>36</td>\n",
              "    </tr>\n",
              "    <tr>\n",
              "      <th>Mochila</th>\n",
              "      <td>36</td>\n",
              "    </tr>\n",
              "    <tr>\n",
              "      <th>Modelagem preditiva</th>\n",
              "      <td>53</td>\n",
              "    </tr>\n",
              "    <tr>\n",
              "      <th>Pandeiro</th>\n",
              "      <td>51</td>\n",
              "    </tr>\n",
              "    <tr>\n",
              "      <th>Panela de pressão</th>\n",
              "      <td>47</td>\n",
              "    </tr>\n",
              "    <tr>\n",
              "      <th>Poltrona</th>\n",
              "      <td>47</td>\n",
              "    </tr>\n",
              "    <tr>\n",
              "      <th>Secadora de roupas</th>\n",
              "      <td>45</td>\n",
              "    </tr>\n",
              "    <tr>\n",
              "      <th>Smart TV</th>\n",
              "      <td>54</td>\n",
              "    </tr>\n",
              "    <tr>\n",
              "      <th>Smartwatch</th>\n",
              "      <td>46</td>\n",
              "    </tr>\n",
              "    <tr>\n",
              "      <th>Sofá retrátil</th>\n",
              "      <td>45</td>\n",
              "    </tr>\n",
              "    <tr>\n",
              "      <th>TV Led UHD 4K</th>\n",
              "      <td>42</td>\n",
              "    </tr>\n",
              "    <tr>\n",
              "      <th>Tablet ABXY</th>\n",
              "      <td>48</td>\n",
              "    </tr>\n",
              "    <tr>\n",
              "      <th>Violão</th>\n",
              "      <td>47</td>\n",
              "    </tr>\n",
              "    <tr>\n",
              "      <th>Xadrez de madeira</th>\n",
              "      <td>47</td>\n",
              "    </tr>\n",
              "  </tbody>\n",
              "</table>\n",
              "</div><br><label><b>dtype:</b> int64</label>"
            ]
          },
          "metadata": {}
        },
        {
          "output_type": "stream",
          "name": "stdout",
          "text": [
            "\n",
            "Quantidade Vendida por Produto - Loja 4:\n"
          ]
        },
        {
          "output_type": "display_data",
          "data": {
            "text/plain": [
              "Produto\n",
              "Assistente virtual             50\n",
              "Bateria                        48\n",
              "Bicicleta                      45\n",
              "Blocos de montar               54\n",
              "Bola de basquete               50\n",
              "Bola de vôlei                  48\n",
              "Boneca bebê                    48\n",
              "Cadeira de escritório          40\n",
              "Cama box                       62\n",
              "Cama king                      56\n",
              "Carrinho controle remoto       55\n",
              "Celular ABXY                   39\n",
              "Celular Plus X42               48\n",
              "Ciência de dados com python    38\n",
              "Copo térmico                   48\n",
              "Corda de pular                 43\n",
              "Cubo mágico 8x8                47\n",
              "Cômoda                         55\n",
              "Dashboards com Power BI        56\n",
              "Dinossauro Rex                 47\n",
              "Faqueiro                       59\n",
              "Fogão                          47\n",
              "Fone de ouvido                 44\n",
              "Geladeira                      38\n",
              "Guarda roupas                  34\n",
              "Guitarra                       33\n",
              "Headset                        42\n",
              "Impressora                     50\n",
              "Iniciando em programação       43\n",
              "Jogo de copos                  46\n",
              "Jogo de panelas                50\n",
              "Jogo de tabuleiro              48\n",
              "Kit banquetas                  42\n",
              "Lava louças                    43\n",
              "Lavadora de roupas             38\n",
              "Mesa de centro                 44\n",
              "Mesa de jantar                 55\n",
              "Micro-ondas                    48\n",
              "Mochila                        43\n",
              "Modelagem preditiva            50\n",
              "Pandeiro                       52\n",
              "Panela de pressão              46\n",
              "Poltrona                       45\n",
              "Secadora de roupas             40\n",
              "Smart TV                       54\n",
              "Smartwatch                     39\n",
              "Sofá retrátil                  47\n",
              "TV Led UHD 4K                  40\n",
              "Tablet ABXY                    45\n",
              "Violão                         37\n",
              "Xadrez de madeira              39\n",
              "dtype: int64"
            ],
            "text/html": [
              "<div>\n",
              "<style scoped>\n",
              "    .dataframe tbody tr th:only-of-type {\n",
              "        vertical-align: middle;\n",
              "    }\n",
              "\n",
              "    .dataframe tbody tr th {\n",
              "        vertical-align: top;\n",
              "    }\n",
              "\n",
              "    .dataframe thead th {\n",
              "        text-align: right;\n",
              "    }\n",
              "</style>\n",
              "<table border=\"1\" class=\"dataframe\">\n",
              "  <thead>\n",
              "    <tr style=\"text-align: right;\">\n",
              "      <th></th>\n",
              "      <th>0</th>\n",
              "    </tr>\n",
              "    <tr>\n",
              "      <th>Produto</th>\n",
              "      <th></th>\n",
              "    </tr>\n",
              "  </thead>\n",
              "  <tbody>\n",
              "    <tr>\n",
              "      <th>Assistente virtual</th>\n",
              "      <td>50</td>\n",
              "    </tr>\n",
              "    <tr>\n",
              "      <th>Bateria</th>\n",
              "      <td>48</td>\n",
              "    </tr>\n",
              "    <tr>\n",
              "      <th>Bicicleta</th>\n",
              "      <td>45</td>\n",
              "    </tr>\n",
              "    <tr>\n",
              "      <th>Blocos de montar</th>\n",
              "      <td>54</td>\n",
              "    </tr>\n",
              "    <tr>\n",
              "      <th>Bola de basquete</th>\n",
              "      <td>50</td>\n",
              "    </tr>\n",
              "    <tr>\n",
              "      <th>Bola de vôlei</th>\n",
              "      <td>48</td>\n",
              "    </tr>\n",
              "    <tr>\n",
              "      <th>Boneca bebê</th>\n",
              "      <td>48</td>\n",
              "    </tr>\n",
              "    <tr>\n",
              "      <th>Cadeira de escritório</th>\n",
              "      <td>40</td>\n",
              "    </tr>\n",
              "    <tr>\n",
              "      <th>Cama box</th>\n",
              "      <td>62</td>\n",
              "    </tr>\n",
              "    <tr>\n",
              "      <th>Cama king</th>\n",
              "      <td>56</td>\n",
              "    </tr>\n",
              "    <tr>\n",
              "      <th>Carrinho controle remoto</th>\n",
              "      <td>55</td>\n",
              "    </tr>\n",
              "    <tr>\n",
              "      <th>Celular ABXY</th>\n",
              "      <td>39</td>\n",
              "    </tr>\n",
              "    <tr>\n",
              "      <th>Celular Plus X42</th>\n",
              "      <td>48</td>\n",
              "    </tr>\n",
              "    <tr>\n",
              "      <th>Ciência de dados com python</th>\n",
              "      <td>38</td>\n",
              "    </tr>\n",
              "    <tr>\n",
              "      <th>Copo térmico</th>\n",
              "      <td>48</td>\n",
              "    </tr>\n",
              "    <tr>\n",
              "      <th>Corda de pular</th>\n",
              "      <td>43</td>\n",
              "    </tr>\n",
              "    <tr>\n",
              "      <th>Cubo mágico 8x8</th>\n",
              "      <td>47</td>\n",
              "    </tr>\n",
              "    <tr>\n",
              "      <th>Cômoda</th>\n",
              "      <td>55</td>\n",
              "    </tr>\n",
              "    <tr>\n",
              "      <th>Dashboards com Power BI</th>\n",
              "      <td>56</td>\n",
              "    </tr>\n",
              "    <tr>\n",
              "      <th>Dinossauro Rex</th>\n",
              "      <td>47</td>\n",
              "    </tr>\n",
              "    <tr>\n",
              "      <th>Faqueiro</th>\n",
              "      <td>59</td>\n",
              "    </tr>\n",
              "    <tr>\n",
              "      <th>Fogão</th>\n",
              "      <td>47</td>\n",
              "    </tr>\n",
              "    <tr>\n",
              "      <th>Fone de ouvido</th>\n",
              "      <td>44</td>\n",
              "    </tr>\n",
              "    <tr>\n",
              "      <th>Geladeira</th>\n",
              "      <td>38</td>\n",
              "    </tr>\n",
              "    <tr>\n",
              "      <th>Guarda roupas</th>\n",
              "      <td>34</td>\n",
              "    </tr>\n",
              "    <tr>\n",
              "      <th>Guitarra</th>\n",
              "      <td>33</td>\n",
              "    </tr>\n",
              "    <tr>\n",
              "      <th>Headset</th>\n",
              "      <td>42</td>\n",
              "    </tr>\n",
              "    <tr>\n",
              "      <th>Impressora</th>\n",
              "      <td>50</td>\n",
              "    </tr>\n",
              "    <tr>\n",
              "      <th>Iniciando em programação</th>\n",
              "      <td>43</td>\n",
              "    </tr>\n",
              "    <tr>\n",
              "      <th>Jogo de copos</th>\n",
              "      <td>46</td>\n",
              "    </tr>\n",
              "    <tr>\n",
              "      <th>Jogo de panelas</th>\n",
              "      <td>50</td>\n",
              "    </tr>\n",
              "    <tr>\n",
              "      <th>Jogo de tabuleiro</th>\n",
              "      <td>48</td>\n",
              "    </tr>\n",
              "    <tr>\n",
              "      <th>Kit banquetas</th>\n",
              "      <td>42</td>\n",
              "    </tr>\n",
              "    <tr>\n",
              "      <th>Lava louças</th>\n",
              "      <td>43</td>\n",
              "    </tr>\n",
              "    <tr>\n",
              "      <th>Lavadora de roupas</th>\n",
              "      <td>38</td>\n",
              "    </tr>\n",
              "    <tr>\n",
              "      <th>Mesa de centro</th>\n",
              "      <td>44</td>\n",
              "    </tr>\n",
              "    <tr>\n",
              "      <th>Mesa de jantar</th>\n",
              "      <td>55</td>\n",
              "    </tr>\n",
              "    <tr>\n",
              "      <th>Micro-ondas</th>\n",
              "      <td>48</td>\n",
              "    </tr>\n",
              "    <tr>\n",
              "      <th>Mochila</th>\n",
              "      <td>43</td>\n",
              "    </tr>\n",
              "    <tr>\n",
              "      <th>Modelagem preditiva</th>\n",
              "      <td>50</td>\n",
              "    </tr>\n",
              "    <tr>\n",
              "      <th>Pandeiro</th>\n",
              "      <td>52</td>\n",
              "    </tr>\n",
              "    <tr>\n",
              "      <th>Panela de pressão</th>\n",
              "      <td>46</td>\n",
              "    </tr>\n",
              "    <tr>\n",
              "      <th>Poltrona</th>\n",
              "      <td>45</td>\n",
              "    </tr>\n",
              "    <tr>\n",
              "      <th>Secadora de roupas</th>\n",
              "      <td>40</td>\n",
              "    </tr>\n",
              "    <tr>\n",
              "      <th>Smart TV</th>\n",
              "      <td>54</td>\n",
              "    </tr>\n",
              "    <tr>\n",
              "      <th>Smartwatch</th>\n",
              "      <td>39</td>\n",
              "    </tr>\n",
              "    <tr>\n",
              "      <th>Sofá retrátil</th>\n",
              "      <td>47</td>\n",
              "    </tr>\n",
              "    <tr>\n",
              "      <th>TV Led UHD 4K</th>\n",
              "      <td>40</td>\n",
              "    </tr>\n",
              "    <tr>\n",
              "      <th>Tablet ABXY</th>\n",
              "      <td>45</td>\n",
              "    </tr>\n",
              "    <tr>\n",
              "      <th>Violão</th>\n",
              "      <td>37</td>\n",
              "    </tr>\n",
              "    <tr>\n",
              "      <th>Xadrez de madeira</th>\n",
              "      <td>39</td>\n",
              "    </tr>\n",
              "  </tbody>\n",
              "</table>\n",
              "</div><br><label><b>dtype:</b> int64</label>"
            ]
          },
          "metadata": {}
        }
      ]
    },
    {
      "cell_type": "markdown",
      "metadata": {
        "id": "a8fe6636"
      },
      "source": [
        "## Combinar a quantidade vendida de produtos de todas as lojas\n",
        "\n",
        "### Subtask:\n",
        "Consolidar os dados de quantidade vendida de todas as lojas em um único DataFrame ou Series para ter uma visão geral dos produtos mais e menos vendidos no total.\n"
      ]
    },
    {
      "cell_type": "markdown",
      "metadata": {
        "id": "3e05c5f4"
      },
      "source": [
        "**Reasoning**:\n",
        "Combine the sales quantity Series into a single DataFrame, sum the quantities across stores to get the total quantity sold per product, and display the result.\n",
        "\n"
      ]
    },
    {
      "cell_type": "code",
      "metadata": {
        "colab": {
          "base_uri": "https://localhost:8080/",
          "height": 1000
        },
        "id": "45868311",
        "outputId": "20e78543-3e80-460e-b838-13a48d333564"
      },
      "source": [
        "quantidade_vendida_todas_lojas = pd.concat([quantidade_vendida_loja1, quantidade_vendida_loja2, quantidade_vendida_loja3, quantidade_vendida_loja4], axis=1)\n",
        "quantidade_vendida_todas_lojas.columns = ['Loja 1', 'Loja 2', 'Loja 3', 'Loja 4']\n",
        "quantidade_total_vendida = quantidade_vendida_todas_lojas.sum(axis=1)\n",
        "\n",
        "print(\"Quantidade Total Vendida por Produto:\")\n",
        "display(quantidade_total_vendida)"
      ],
      "execution_count": 29,
      "outputs": [
        {
          "output_type": "stream",
          "name": "stdout",
          "text": [
            "Quantidade Total Vendida por Produto:\n"
          ]
        },
        {
          "output_type": "display_data",
          "data": {
            "text/plain": [
              "Produto\n",
              "Assistente virtual             167\n",
              "Bateria                        203\n",
              "Bicicleta                      196\n",
              "Blocos de montar               199\n",
              "Bola de basquete               197\n",
              "Bola de vôlei                  184\n",
              "Boneca bebê                    175\n",
              "Cadeira de escritório          181\n",
              "Cama box                       199\n",
              "Cama king                      201\n",
              "Carrinho controle remoto       206\n",
              "Celular ABXY                   157\n",
              "Celular Plus X42               198\n",
              "Ciência de dados com python    166\n",
              "Copo térmico                   187\n",
              "Corda de pular                 186\n",
              "Cubo mágico 8x8                180\n",
              "Cômoda                         210\n",
              "Dashboards com Power BI        181\n",
              "Dinossauro Rex                 175\n",
              "Faqueiro                       189\n",
              "Fogão                          187\n",
              "Fone de ouvido                 174\n",
              "Geladeira                      191\n",
              "Guarda roupas                  197\n",
              "Guitarra                       165\n",
              "Headset                        158\n",
              "Impressora                     188\n",
              "Iniciando em programação       195\n",
              "Jogo de copos                  169\n",
              "Jogo de panelas                200\n",
              "Jogo de tabuleiro              175\n",
              "Kit banquetas                  188\n",
              "Lava louças                    189\n",
              "Lavadora de roupas             176\n",
              "Mesa de centro                 175\n",
              "Mesa de jantar                 185\n",
              "Micro-ondas                    206\n",
              "Mochila                        163\n",
              "Modelagem preditiva            200\n",
              "Pandeiro                       197\n",
              "Panela de pressão              172\n",
              "Poltrona                       168\n",
              "Secadora de roupas             200\n",
              "Smart TV                       192\n",
              "Smartwatch                     172\n",
              "Sofá retrátil                  182\n",
              "TV Led UHD 4K                  187\n",
              "Tablet ABXY                    179\n",
              "Violão                         188\n",
              "Xadrez de madeira              180\n",
              "dtype: int64"
            ],
            "text/html": [
              "<div>\n",
              "<style scoped>\n",
              "    .dataframe tbody tr th:only-of-type {\n",
              "        vertical-align: middle;\n",
              "    }\n",
              "\n",
              "    .dataframe tbody tr th {\n",
              "        vertical-align: top;\n",
              "    }\n",
              "\n",
              "    .dataframe thead th {\n",
              "        text-align: right;\n",
              "    }\n",
              "</style>\n",
              "<table border=\"1\" class=\"dataframe\">\n",
              "  <thead>\n",
              "    <tr style=\"text-align: right;\">\n",
              "      <th></th>\n",
              "      <th>0</th>\n",
              "    </tr>\n",
              "    <tr>\n",
              "      <th>Produto</th>\n",
              "      <th></th>\n",
              "    </tr>\n",
              "  </thead>\n",
              "  <tbody>\n",
              "    <tr>\n",
              "      <th>Assistente virtual</th>\n",
              "      <td>167</td>\n",
              "    </tr>\n",
              "    <tr>\n",
              "      <th>Bateria</th>\n",
              "      <td>203</td>\n",
              "    </tr>\n",
              "    <tr>\n",
              "      <th>Bicicleta</th>\n",
              "      <td>196</td>\n",
              "    </tr>\n",
              "    <tr>\n",
              "      <th>Blocos de montar</th>\n",
              "      <td>199</td>\n",
              "    </tr>\n",
              "    <tr>\n",
              "      <th>Bola de basquete</th>\n",
              "      <td>197</td>\n",
              "    </tr>\n",
              "    <tr>\n",
              "      <th>Bola de vôlei</th>\n",
              "      <td>184</td>\n",
              "    </tr>\n",
              "    <tr>\n",
              "      <th>Boneca bebê</th>\n",
              "      <td>175</td>\n",
              "    </tr>\n",
              "    <tr>\n",
              "      <th>Cadeira de escritório</th>\n",
              "      <td>181</td>\n",
              "    </tr>\n",
              "    <tr>\n",
              "      <th>Cama box</th>\n",
              "      <td>199</td>\n",
              "    </tr>\n",
              "    <tr>\n",
              "      <th>Cama king</th>\n",
              "      <td>201</td>\n",
              "    </tr>\n",
              "    <tr>\n",
              "      <th>Carrinho controle remoto</th>\n",
              "      <td>206</td>\n",
              "    </tr>\n",
              "    <tr>\n",
              "      <th>Celular ABXY</th>\n",
              "      <td>157</td>\n",
              "    </tr>\n",
              "    <tr>\n",
              "      <th>Celular Plus X42</th>\n",
              "      <td>198</td>\n",
              "    </tr>\n",
              "    <tr>\n",
              "      <th>Ciência de dados com python</th>\n",
              "      <td>166</td>\n",
              "    </tr>\n",
              "    <tr>\n",
              "      <th>Copo térmico</th>\n",
              "      <td>187</td>\n",
              "    </tr>\n",
              "    <tr>\n",
              "      <th>Corda de pular</th>\n",
              "      <td>186</td>\n",
              "    </tr>\n",
              "    <tr>\n",
              "      <th>Cubo mágico 8x8</th>\n",
              "      <td>180</td>\n",
              "    </tr>\n",
              "    <tr>\n",
              "      <th>Cômoda</th>\n",
              "      <td>210</td>\n",
              "    </tr>\n",
              "    <tr>\n",
              "      <th>Dashboards com Power BI</th>\n",
              "      <td>181</td>\n",
              "    </tr>\n",
              "    <tr>\n",
              "      <th>Dinossauro Rex</th>\n",
              "      <td>175</td>\n",
              "    </tr>\n",
              "    <tr>\n",
              "      <th>Faqueiro</th>\n",
              "      <td>189</td>\n",
              "    </tr>\n",
              "    <tr>\n",
              "      <th>Fogão</th>\n",
              "      <td>187</td>\n",
              "    </tr>\n",
              "    <tr>\n",
              "      <th>Fone de ouvido</th>\n",
              "      <td>174</td>\n",
              "    </tr>\n",
              "    <tr>\n",
              "      <th>Geladeira</th>\n",
              "      <td>191</td>\n",
              "    </tr>\n",
              "    <tr>\n",
              "      <th>Guarda roupas</th>\n",
              "      <td>197</td>\n",
              "    </tr>\n",
              "    <tr>\n",
              "      <th>Guitarra</th>\n",
              "      <td>165</td>\n",
              "    </tr>\n",
              "    <tr>\n",
              "      <th>Headset</th>\n",
              "      <td>158</td>\n",
              "    </tr>\n",
              "    <tr>\n",
              "      <th>Impressora</th>\n",
              "      <td>188</td>\n",
              "    </tr>\n",
              "    <tr>\n",
              "      <th>Iniciando em programação</th>\n",
              "      <td>195</td>\n",
              "    </tr>\n",
              "    <tr>\n",
              "      <th>Jogo de copos</th>\n",
              "      <td>169</td>\n",
              "    </tr>\n",
              "    <tr>\n",
              "      <th>Jogo de panelas</th>\n",
              "      <td>200</td>\n",
              "    </tr>\n",
              "    <tr>\n",
              "      <th>Jogo de tabuleiro</th>\n",
              "      <td>175</td>\n",
              "    </tr>\n",
              "    <tr>\n",
              "      <th>Kit banquetas</th>\n",
              "      <td>188</td>\n",
              "    </tr>\n",
              "    <tr>\n",
              "      <th>Lava louças</th>\n",
              "      <td>189</td>\n",
              "    </tr>\n",
              "    <tr>\n",
              "      <th>Lavadora de roupas</th>\n",
              "      <td>176</td>\n",
              "    </tr>\n",
              "    <tr>\n",
              "      <th>Mesa de centro</th>\n",
              "      <td>175</td>\n",
              "    </tr>\n",
              "    <tr>\n",
              "      <th>Mesa de jantar</th>\n",
              "      <td>185</td>\n",
              "    </tr>\n",
              "    <tr>\n",
              "      <th>Micro-ondas</th>\n",
              "      <td>206</td>\n",
              "    </tr>\n",
              "    <tr>\n",
              "      <th>Mochila</th>\n",
              "      <td>163</td>\n",
              "    </tr>\n",
              "    <tr>\n",
              "      <th>Modelagem preditiva</th>\n",
              "      <td>200</td>\n",
              "    </tr>\n",
              "    <tr>\n",
              "      <th>Pandeiro</th>\n",
              "      <td>197</td>\n",
              "    </tr>\n",
              "    <tr>\n",
              "      <th>Panela de pressão</th>\n",
              "      <td>172</td>\n",
              "    </tr>\n",
              "    <tr>\n",
              "      <th>Poltrona</th>\n",
              "      <td>168</td>\n",
              "    </tr>\n",
              "    <tr>\n",
              "      <th>Secadora de roupas</th>\n",
              "      <td>200</td>\n",
              "    </tr>\n",
              "    <tr>\n",
              "      <th>Smart TV</th>\n",
              "      <td>192</td>\n",
              "    </tr>\n",
              "    <tr>\n",
              "      <th>Smartwatch</th>\n",
              "      <td>172</td>\n",
              "    </tr>\n",
              "    <tr>\n",
              "      <th>Sofá retrátil</th>\n",
              "      <td>182</td>\n",
              "    </tr>\n",
              "    <tr>\n",
              "      <th>TV Led UHD 4K</th>\n",
              "      <td>187</td>\n",
              "    </tr>\n",
              "    <tr>\n",
              "      <th>Tablet ABXY</th>\n",
              "      <td>179</td>\n",
              "    </tr>\n",
              "    <tr>\n",
              "      <th>Violão</th>\n",
              "      <td>188</td>\n",
              "    </tr>\n",
              "    <tr>\n",
              "      <th>Xadrez de madeira</th>\n",
              "      <td>180</td>\n",
              "    </tr>\n",
              "  </tbody>\n",
              "</table>\n",
              "</div><br><label><b>dtype:</b> int64</label>"
            ]
          },
          "metadata": {}
        }
      ]
    },
    {
      "cell_type": "markdown",
      "metadata": {
        "id": "00ca6a48"
      },
      "source": [
        "## Identificar os produtos mais e menos vendidos\n",
        "\n",
        "### Subtask:\n",
        "Determinar quais produtos tiveram a maior e a menor quantidade de vendas no geral.\n"
      ]
    },
    {
      "cell_type": "markdown",
      "metadata": {
        "id": "d7603c14"
      },
      "source": [
        "**Reasoning**:\n",
        "Sort the `quantidade_total_vendida` Series to find the least and most sold products, and then print the top and bottom 5.\n",
        "\n"
      ]
    },
    {
      "cell_type": "code",
      "metadata": {
        "colab": {
          "base_uri": "https://localhost:8080/",
          "height": 580
        },
        "id": "df377951",
        "outputId": "fa2581ef-49c6-4171-f4a7-458a3c88a2f1"
      },
      "source": [
        "least_sold_products = quantidade_total_vendida.sort_values(ascending=True)\n",
        "most_sold_products = quantidade_total_vendida.sort_values(ascending=False)\n",
        "\n",
        "print(\"Top 5 Produtos Mais Vendidos:\")\n",
        "display(most_sold_products.head())\n",
        "\n",
        "print(\"\\nTop 5 Produtos Menos Vendidos:\")\n",
        "display(least_sold_products.head())"
      ],
      "execution_count": 30,
      "outputs": [
        {
          "output_type": "stream",
          "name": "stdout",
          "text": [
            "Top 5 Produtos Mais Vendidos:\n"
          ]
        },
        {
          "output_type": "display_data",
          "data": {
            "text/plain": [
              "Produto\n",
              "Cômoda                      210\n",
              "Carrinho controle remoto    206\n",
              "Micro-ondas                 206\n",
              "Bateria                     203\n",
              "Cama king                   201\n",
              "dtype: int64"
            ],
            "text/html": [
              "<div>\n",
              "<style scoped>\n",
              "    .dataframe tbody tr th:only-of-type {\n",
              "        vertical-align: middle;\n",
              "    }\n",
              "\n",
              "    .dataframe tbody tr th {\n",
              "        vertical-align: top;\n",
              "    }\n",
              "\n",
              "    .dataframe thead th {\n",
              "        text-align: right;\n",
              "    }\n",
              "</style>\n",
              "<table border=\"1\" class=\"dataframe\">\n",
              "  <thead>\n",
              "    <tr style=\"text-align: right;\">\n",
              "      <th></th>\n",
              "      <th>0</th>\n",
              "    </tr>\n",
              "    <tr>\n",
              "      <th>Produto</th>\n",
              "      <th></th>\n",
              "    </tr>\n",
              "  </thead>\n",
              "  <tbody>\n",
              "    <tr>\n",
              "      <th>Cômoda</th>\n",
              "      <td>210</td>\n",
              "    </tr>\n",
              "    <tr>\n",
              "      <th>Carrinho controle remoto</th>\n",
              "      <td>206</td>\n",
              "    </tr>\n",
              "    <tr>\n",
              "      <th>Micro-ondas</th>\n",
              "      <td>206</td>\n",
              "    </tr>\n",
              "    <tr>\n",
              "      <th>Bateria</th>\n",
              "      <td>203</td>\n",
              "    </tr>\n",
              "    <tr>\n",
              "      <th>Cama king</th>\n",
              "      <td>201</td>\n",
              "    </tr>\n",
              "  </tbody>\n",
              "</table>\n",
              "</div><br><label><b>dtype:</b> int64</label>"
            ]
          },
          "metadata": {}
        },
        {
          "output_type": "stream",
          "name": "stdout",
          "text": [
            "\n",
            "Top 5 Produtos Menos Vendidos:\n"
          ]
        },
        {
          "output_type": "display_data",
          "data": {
            "text/plain": [
              "Produto\n",
              "Celular ABXY                   157\n",
              "Headset                        158\n",
              "Mochila                        163\n",
              "Guitarra                       165\n",
              "Ciência de dados com python    166\n",
              "dtype: int64"
            ],
            "text/html": [
              "<div>\n",
              "<style scoped>\n",
              "    .dataframe tbody tr th:only-of-type {\n",
              "        vertical-align: middle;\n",
              "    }\n",
              "\n",
              "    .dataframe tbody tr th {\n",
              "        vertical-align: top;\n",
              "    }\n",
              "\n",
              "    .dataframe thead th {\n",
              "        text-align: right;\n",
              "    }\n",
              "</style>\n",
              "<table border=\"1\" class=\"dataframe\">\n",
              "  <thead>\n",
              "    <tr style=\"text-align: right;\">\n",
              "      <th></th>\n",
              "      <th>0</th>\n",
              "    </tr>\n",
              "    <tr>\n",
              "      <th>Produto</th>\n",
              "      <th></th>\n",
              "    </tr>\n",
              "  </thead>\n",
              "  <tbody>\n",
              "    <tr>\n",
              "      <th>Celular ABXY</th>\n",
              "      <td>157</td>\n",
              "    </tr>\n",
              "    <tr>\n",
              "      <th>Headset</th>\n",
              "      <td>158</td>\n",
              "    </tr>\n",
              "    <tr>\n",
              "      <th>Mochila</th>\n",
              "      <td>163</td>\n",
              "    </tr>\n",
              "    <tr>\n",
              "      <th>Guitarra</th>\n",
              "      <td>165</td>\n",
              "    </tr>\n",
              "    <tr>\n",
              "      <th>Ciência de dados com python</th>\n",
              "      <td>166</td>\n",
              "    </tr>\n",
              "  </tbody>\n",
              "</table>\n",
              "</div><br><label><b>dtype:</b> int64</label>"
            ]
          },
          "metadata": {}
        }
      ]
    },
    {
      "cell_type": "markdown",
      "metadata": {
        "id": "99646dfa"
      },
      "source": [
        "## Visualizar os produtos mais e menos vendidos\n",
        "\n",
        "### Subtask:\n",
        "Gerar gráficos de pizza para visualizar a proporção dos produtos mais vendidos em relação ao total de vendas e a proporção dos produtos menos vendidos em relação ao total de vendas.\n"
      ]
    },
    {
      "cell_type": "markdown",
      "metadata": {
        "id": "7a402462"
      },
      "source": [
        "**Reasoning**:\n",
        "Generate pie charts to visualize the proportion of the top 5 most sold and bottom 5 least sold products.\n",
        "\n"
      ]
    },
    {
      "cell_type": "code",
      "metadata": {
        "colab": {
          "base_uri": "https://localhost:8080/",
          "height": 582
        },
        "id": "252ea87a",
        "outputId": "04fc46fc-f206-4a8f-afc3-3dacd4f021fd"
      },
      "source": [
        "fig, axes = plt.subplots(1, 2, figsize=(16, 8))\n",
        "\n",
        "most_sold_products.head().plot(kind='pie', ax=axes[0], autopct='%1.1f%%', startangle=90)\n",
        "axes[0].set_title('Proporção dos 5 Produtos Mais Vendidos')\n",
        "axes[0].set_ylabel('')\n",
        "\n",
        "least_sold_products.head().plot(kind='pie', ax=axes[1], autopct='%1.1f%%', startangle=90)\n",
        "axes[1].set_title('Proporção dos 5 Produtos Menos Vendidos')\n",
        "axes[1].set_ylabel('')\n",
        "\n",
        "plt.tight_layout()\n",
        "plt.show()"
      ],
      "execution_count": 31,
      "outputs": [
        {
          "output_type": "display_data",
          "data": {
            "text/plain": [
              "<Figure size 1600x800 with 2 Axes>"
            ],
            "image/png": "[encoded data removed]"
          },
          "metadata": {}
        }
      ]
    },
    {
      "cell_type": "markdown",
      "metadata": {
        "id": "c9e03717"
      },
      "source": [
        "## Summary:\n",
        "\n",
        "### Data Analysis Key Findings\n",
        "\n",
        "*   The total sales quantity for each product across all four stores was calculated by concatenating and summing the individual store sales data.\n",
        "*   Based on total sales quantity, the top 5 most sold products are: Cômoda, Carrinho controle remoto, Micro-ondas, Bateria, and Cama king.\n",
        "*   Based on total sales quantity, the top 5 least sold products are: Celular ABXY, Headset, Mochila, Guitarra, and Ciência de dados com python.\n",
        "*   Pie charts were generated to visualize the proportion of sales for the top 5 most sold and top 5 least sold products.\n",
        "\n",
        "### Insights or Next Steps\n",
        "\n",
        "*   Further analysis could explore the sales trends of the top and bottom selling products over time to understand seasonality or other factors.\n",
        "*   Investigating the reasons behind the low sales of the bottom 5 products could inform strategies for improvement, such as marketing campaigns or product placement adjustments.\n"
      ]
    },
    {
      "cell_type": "markdown",
      "metadata": {
        "id": "1cce2ed7"
      },
      "source": [
        "# Task\n",
        "Calculate the average shipping cost for each store and generate a chart to visualize the results."
      ]
    },
    {
      "cell_type": "markdown",
      "metadata": {
        "id": "1a5eed35"
      },
      "source": [
        "## Calcular o custo médio do frete para cada loja\n",
        "\n",
        "### Subtask:\n",
        "Calcular a média da coluna 'Frete' para cada um dos DataFrames das lojas.\n"
      ]
    },
    {
      "cell_type": "markdown",
      "metadata": {
        "id": "2d07b92c"
      },
      "source": [
        "**Reasoning**:\n",
        "Calculate the average shipping cost for each store and store the results in separate variables, then print the results formatted to two decimal places.\n",
        "\n"
      ]
    },
    {
      "cell_type": "code",
      "metadata": {
        "colab": {
          "base_uri": "https://localhost:8080/"
        },
        "id": "6df13e1a",
        "outputId": "d792f129-4b2e-4e4c-c5bb-a12e496419e1"
      },
      "source": [
        "media_frete_loja1 = loja['Frete'].mean()\n",
        "media_frete_loja2 = loja2['Frete'].mean()\n",
        "media_frete_loja3 = loja3['Frete'].mean()\n",
        "media_frete_loja4 = loja4['Frete'].mean()\n",
        "\n",
        "print(f'Média de Frete da Loja 1: R${media_frete_loja1:.2f}')\n",
        "print(f'Média de Frete da Loja 2: R${media_frete_loja2:.2f}')\n",
        "print(f'Média de Frete da Loja 3: R${media_frete_loja3:.2f}')\n",
        "print(f'Média de Frete da Loja 4: R${media_frete_loja4:.2f}')"
      ],
      "execution_count": 32,
      "outputs": [
        {
          "output_type": "stream",
          "name": "stdout",
          "text": [
            "Média de Frete da Loja 1: R$34.69\n",
            "Média de Frete da Loja 2: R$33.62\n",
            "Média de Frete da Loja 3: R$33.07\n",
            "Média de Frete da Loja 4: R$31.28\n"
          ]
        }
      ]
    },
    {
      "cell_type": "markdown",
      "metadata": {
        "id": "4c03d585"
      },
      "source": [
        "## Combinar os custos médios do frete\n",
        "\n",
        "### Subtask:\n",
        "Criar um DataFrame ou Series contendo o custo médio do frete de cada loja para facilitar a visualização.\n"
      ]
    },
    {
      "cell_type": "markdown",
      "metadata": {
        "id": "01aa8636"
      },
      "source": [
        "**Reasoning**:\n",
        "Create a dictionary of average shipping costs for each store and convert it to a pandas Series.\n",
        "\n"
      ]
    },
    {
      "cell_type": "code",
      "metadata": {
        "colab": {
          "base_uri": "https://localhost:8080/",
          "height": 210
        },
        "id": "e1a6e36d",
        "outputId": "071fb617-9d5e-469f-824b-ebc156d10a45"
      },
      "source": [
        "medias_frete = {\n",
        "    'Loja 1': media_frete_loja1,\n",
        "    'Loja 2': media_frete_loja2,\n",
        "    'Loja 3': media_frete_loja3,\n",
        "    'Loja 4': media_frete_loja4\n",
        "}\n",
        "\n",
        "series_medias_frete = pd.Series(medias_frete, name='Média de Frete')\n",
        "display(series_medias_frete)"
      ],
      "execution_count": 33,
      "outputs": [
        {
          "output_type": "display_data",
          "data": {
            "text/plain": [
              "Loja 1    34.691805\n",
              "Loja 2    33.621941\n",
              "Loja 3    33.074464\n",
              "Loja 4    31.278997\n",
              "Name: Média de Frete, dtype: float64"
            ],
            "text/html": [
              "<div>\n",
              "<style scoped>\n",
              "    .dataframe tbody tr th:only-of-type {\n",
              "        vertical-align: middle;\n",
              "    }\n",
              "\n",
              "    .dataframe tbody tr th {\n",
              "        vertical-align: top;\n",
              "    }\n",
              "\n",
              "    .dataframe thead th {\n",
              "        text-align: right;\n",
              "    }\n",
              "</style>\n",
              "<table border=\"1\" class=\"dataframe\">\n",
              "  <thead>\n",
              "    <tr style=\"text-align: right;\">\n",
              "      <th></th>\n",
              "      <th>Média de Frete</th>\n",
              "    </tr>\n",
              "  </thead>\n",
              "  <tbody>\n",
              "    <tr>\n",
              "      <th>Loja 1</th>\n",
              "      <td>34.691805</td>\n",
              "    </tr>\n",
              "    <tr>\n",
              "      <th>Loja 2</th>\n",
              "      <td>33.621941</td>\n",
              "    </tr>\n",
              "    <tr>\n",
              "      <th>Loja 3</th>\n",
              "      <td>33.074464</td>\n",
              "    </tr>\n",
              "    <tr>\n",
              "      <th>Loja 4</th>\n",
              "      <td>31.278997</td>\n",
              "    </tr>\n",
              "  </tbody>\n",
              "</table>\n",
              "</div><br><label><b>dtype:</b> float64</label>"
            ]
          },
          "metadata": {}
        }
      ]
    },
    {
      "cell_type": "markdown",
      "metadata": {
        "id": "7fd39859"
      },
      "source": [
        "## Visualizar os custos médios do frete\n",
        "\n",
        "### Subtask:\n",
        "Gerar um gráfico (por exemplo, um gráfico de barras) para comparar o custo médio do frete entre as lojas.\n"
      ]
    },
    {
      "cell_type": "markdown",
      "metadata": {
        "id": "849119cb"
      },
      "source": [
        "**Reasoning**:\n",
        "Generate a bar chart to visualize the average shipping cost for each store using the combined Series.\n",
        "\n"
      ]
    },
    {
      "cell_type": "code",
      "metadata": {
        "colab": {
          "base_uri": "https://localhost:8080/",
          "height": 606
        },
        "id": "9507866c",
        "outputId": "cb323411-7d84-4061-e238-689e00856bc6"
      },
      "source": [
        "import matplotlib.pyplot as plt\n",
        "\n",
        "plt.figure(figsize=(10, 6))\n",
        "series_medias_frete.plot(kind='bar', color=['blue', 'green', 'red', 'purple'])\n",
        "plt.title('Custo Médio do Frete por Loja')\n",
        "plt.ylabel('Custo Médio do Frete (R$)')\n",
        "plt.xticks(rotation=0)\n",
        "plt.tight_layout()\n",
        "plt.show()"
      ],
      "execution_count": 34,
      "outputs": [
        {
          "output_type": "display_data",
          "data": {
            "text/plain": [
              "<Figure size 1000x600 with 1 Axes>"
            ],
            "image/png": "[encoded data removed]"
          },
          "metadata": {}
        }
      ]
    },
    {
      "cell_type": "markdown",
      "metadata": {
        "id": "0282241e"
      },
      "source": [
        "## Summary:\n",
        "\n",
        "### Data Analysis Key Findings\n",
        "\n",
        "*   The average shipping cost for Loja 1 is R\\$34.69.\n",
        "*   The average shipping cost for Loja 2 is R\\$33.62.\n",
        "*   The average shipping cost for Loja 3 is R\\$33.07.\n",
        "*   The average shipping cost for Loja 4 is R\\$31.28.\n",
        "*   Loja 4 has the lowest average shipping cost among the four stores.\n",
        "*   A bar chart was generated to visualize the average shipping cost per store.\n",
        "\n",
        "### Insights or Next Steps\n",
        "\n",
        "*   Investigate the factors contributing to the differences in average shipping costs between the stores, particularly why Loja 4 has a significantly lower average.\n",
        "*   Analyze if the differences in shipping costs impact customer purchasing behavior or store performance.\n"
      ]
    },
    {
      "cell_type": "markdown",
      "metadata": {
        "id": "fb6a8d5e"
      },
      "source": [
        "## Relatório de Análise de Desempenho das Lojas para Investimento\n",
        "\n",
        "**Para:** Sr. João\n",
        "**De:** Seu Assistente de Análise de Dados\n",
        "**Data:** 25 de Julho de 2024\n",
        "**Assunto:** Análise de Desempenho das Lojas para Decisão de Investimento\n",
        "\n",
        "Prezado Sr. João,\n",
        "\n",
        "Este relatório apresenta uma análise comparativa do desempenho das quatro lojas com base nos dados de vendas fornecidos. O objetivo é auxiliar na sua decisão sobre qual loja pode ser a mais estratégica para investir em um novo negócio, considerando também a identificação da loja com menor desempenho em comparação às outras.\n",
        "\n",
        "**Sumário das Principais Análises:**\n",
        "\n",
        "1.  **Faturamento por Loja:**\n",
        "    *   Loja 1: R$\\${faturamento_loja1:.2f}$\n",
        "    *   Loja 2: R$\\${faturamento_loja2:.2f}$\n",
        "    *   Loja 3: R$\\${faturamento_loja3:.2f}$\n",
        "    *   Loja 4: R$\\${faturamento_loja4:.2f}$\n",
        "    *   **Observação:** A Loja 1 apresenta o maior faturamento, enquanto a Loja 4 tem o menor.\n",
        "\n",
        "2.  **Vendas por Categoria:**\n",
        "    *   Analisamos o faturamento de cada categoria de produto em cada loja. É possível observar as categorias com maior e menor contribuição para o faturamento em cada local. (Consulte o gráfico \"Vendas por Categoria por Loja\" para detalhes).\n",
        "    *   **Observação:** A categoria \"eletronicos\" e \"eletrodomesticos\" geralmente contribuem significativamente para o faturamento em todas as lojas, enquanto \"livros\" e \"utilidades domesticas\" têm menor representatividade.\n",
        "\n",
        "3.  **Média de Avaliação das Lojas:**\n",
        "    *   Loja 1: ${media_avaliacao_loja1:.2f}$\n",
        "    *   Loja 2: ${media_avaliacao_loja2:.2f}$\n",
        "    *   Loja 3: ${media_avaliacao_loja3:.2f}$\n",
        "    *   Loja 4: ${media_avaliacao_loja4:.2f}$\n",
        "    *   **Observação:** Todas as lojas apresentam médias de avaliação próximas e geralmente boas, indicando um nível de satisfação do cliente consistente. A Loja 3 tem a média ligeiramente maior.\n",
        "\n",
        "4.  **Produtos Mais e Menos Vendidos (Quantidade Total):**\n",
        "    *   **Mais Vendidos (Top 5):** Cômoda, Carrinho controle remoto, Micro-ondas, Bateria, Cama king.\n",
        "    *   **Menos Vendidos (Top 5):** Celular ABXY, Headset, Mochila, Guitarra, Ciência de dados com python.\n",
        "    *   **Observação:** A análise dos produtos mais e menos vendidos em conjunto pode indicar tendências de consumo e áreas onde o estoque ou marketing podem ser ajustados.\n",
        "\n",
        "5.  **Custo Médio do Frete por Loja:**\n",
        "    *   Loja 1: R$\\${media_frete_loja1:.2f}$\n",
        "    *   Loja 2: R$\\${media_frete_loja2:.2f}$\n",
        "    *   Loja 3: R$\\${media_frete_loja3:.2f}$\n",
        "    *   Loja 4: R$\\${media_frete_loja4:.2f}$\n",
        "    *   **Observação:** A Loja 4 apresenta o menor custo médio de frete.\n",
        "\n",
        "**Análise Comparativa e Identificação da Loja com Menor Desempenho:**\n",
        "\n",
        "Ao analisar os indicadores, a **Loja 4** consistentemente apresenta números menores em termos de faturamento total (o menor entre as quatro). Embora tenha o menor custo médio de frete e uma média de avaliação razoável, seu desempenho geral em termos de receita é inferior às outras lojas. As vendas por categoria na Loja 4 também mostram valores menores em algumas categorias chave em comparação com as outras lojas.\n",
        "\n",
        "**Recomendação para Investimento:**\n",
        "\n",
        "A decisão de investimento depende dos seus objetivos para o novo negócio.\n",
        "\n",
        "*   **Se o objetivo é investir em uma loja com base no desempenho atual e maior base de receita:** A **Loja 1** seria a escolha mais óbvia devido ao seu maior faturamento.\n",
        "*   **Se o objetivo é investir em uma loja com potencial de crescimento e menor custo operacional (frete):** A **Loja 4**, apesar de ter o menor desempenho em faturamento atualmente, pode representar uma oportunidade. Seu menor custo de frete pode indicar uma vantagem logística ou de localização que, se combinada com estratégias eficazes para aumentar as vendas (talvez focando nos produtos mais vendidos ou melhorando o desempenho das categorias com menor venda), poderia resultar em um crescimento significativo.\n",
        "*   **Considerações adicionais:** As Lojas 2 e 3 apresentam um desempenho intermediário e médias de avaliação ligeiramente superiores, o que pode indicar uma base de clientes satisfeita.\n",
        "\n",
        "**Conclusão:**\n",
        "\n",
        "A **Loja 4** é a loja que apresenta o menor desempenho financeiro em comparação com as outras. No entanto, isso pode ser visto tanto como um risco quanto uma oportunidade, dependendo da sua estratégia de investimento. Se o objetivo é capitalizar um negócio já robusto, a Loja 1 é a mais indicada. Se o objetivo é investir em um local com menor custo de frete e potencial para turnaround e crescimento, a Loja 4 pode ser considerada, mas exigirá uma análise mais profunda das causas do menor faturamento e um plano de ação robusto.\n",
        "\n",
        "Recomendo que o Sr. João analise os gráficos gerados para ter uma visão visual clara das comparações e considere os insights fornecidos para tomar a decisão que melhor se alinha aos seus objetivos de negócio.\n",
        "\n",
        "Espero que este relatório seja útil. Se precisar de mais alguma análise ou detalhe, estou à disposição.\n",
        "\n",
        "Atenciosamente,\n",
        "\n",
        "Seu Assistente de Análise de Dados"
      ]
    },
    {
      "cell_type": "markdown",
      "metadata": {
        "id": "42498715"
      },
      "source": [
        "# Tarefa\n",
        "Analise os dados de vendas fornecidos para calcular a receita total de cada categoria de produto dentro de cada loja. Em seguida, gere visualizações (por exemplo, gráficos de barras) para comparar o desempenho de vendas de cada categoria em todas as lojas."
      ]
    },
    {
      "cell_type": "markdown",
      "metadata": {
        "id": "f637b653"
      },
      "source": [
        "## Calcular vendas por categoria para cada loja\n",
        "\n",
        "### Subtarefa:\n",
        "Agrupar os dados de cada loja pela coluna 'Categoria do Produto' e somar os valores da coluna 'Preço'."
      ]
    },
    {
      "cell_type": "markdown",
      "metadata": {
        "id": "b4599eac"
      },
      "source": [
        "**Raciocínio**:\n",
        "Agrupar os dados de cada loja por 'Categoria do Produto' e somar o 'Preço' para obter a receita total por categoria para cada loja."
      ]
    },
    {
      "cell_type": "markdown",
      "metadata": {
        "id": "1b08e0df"
      },
      "source": [
        "## Combinar os dados de vendas por categoria\n",
        "\n",
        "### Subtarefa:\n",
        "Unir os resultados de vendas por categoria de todas as lojas em um único DataFrame para facilitar a comparação."
      ]
    },
    {
      "cell_type": "markdown",
      "metadata": {
        "id": "a02139de"
      },
      "source": [
        "**Raciocínio**:\n",
        "Concatenar as séries de vendas por categoria em um único DataFrame e renomear as colunas."
      ]
    },
    {
      "cell_type": "markdown",
      "metadata": {
        "id": "348c0e41"
      },
      "source": [
        "## Visualizar as vendas por categoria\n",
        "\n",
        "### Subtarefa:\n",
        "Gerar gráficos (por exemplo, gráficos de barras agrupadas ou múltiplos gráficos de barras) para comparar as vendas por categoria entre as lojas."
      ]
    },
    {
      "cell_type": "markdown",
      "metadata": {
        "id": "1502f6de"
      },
      "source": [
        "**Raciocínio**:\n",
        "Gerar um gráfico de barras agrupadas para comparar as vendas por categoria em todas as lojas usando o DataFrame `vendas_por_categoria`."
      ]
    },
    {
      "cell_type": "markdown",
      "metadata": {
        "id": "37dcf323"
      },
      "source": [
        "## Resumo:\n",
        "\n",
        "### Principais Descobertas da Análise de Dados\n",
        "\n",
        "*   A receita total para cada categoria de produto foi calculada para cada uma das quatro lojas.\n",
        "*   Os dados de vendas por categoria de todas as lojas foram combinados com sucesso em um único DataFrame para comparação.\n",
        "*   Um gráfico de barras agrupadas foi gerado para visualizar e comparar o desempenho de vendas de cada categoria de produto nas quatro lojas.\n",
        "\n",
        "### Insights ou Próximos Passos\n",
        "\n",
        "*   Identificar as categorias de produtos e lojas com melhor desempenho para entender o que impulsiona a receita.\n",
        "*   Investigar categorias com vendas mais baixas para identificar possíveis razões e áreas de melhoria."
      ]
    },
    {
      "cell_type": "markdown",
      "metadata": {
        "id": "1671ceed"
      },
      "source": [
        "# Tarefa\n",
        "Gere a receita para cada loja, incluindo gráficos. Em seguida, faça o mesmo para cada categoria, incluindo gráficos. Finalmente, calcule a média da avaliação dos clientes e gere gráficos de pizza para essas médias."
      ]
    },
    {
      "cell_type": "markdown",
      "metadata": {
        "id": "2f1fbc61"
      },
      "source": [
        "## Calcular a média de avaliação para cada loja\n",
        "\n",
        "### Subtarefa:\n",
        "Calcular a média da coluna 'Avaliação da compra' para cada um dos DataFrames das lojas."
      ]
    },
    {
      "cell_type": "markdown",
      "metadata": {
        "id": "7c89585f"
      },
      "source": [
        "**Raciocínio**:\n",
        "Calcular a média da avaliação dos clientes para cada loja e armazenar os resultados em variáveis separadas, depois imprimir os resultados."
      ]
    },
    {
      "cell_type": "markdown",
      "metadata": {
        "id": "7a3a09c0"
      },
      "source": [
        "## Combinar as médias de avaliação\n",
        "\n",
        "### Subtarefa:\n",
        "Criar um DataFrame ou Series contendo a média de avaliação de cada loja para facilitar a visualização."
      ]
    },
    {
      "cell_type": "markdown",
      "metadata": {
        "id": "b56dd3bc"
      },
      "source": [
        "**Raciocínio**:\n",
        "Criar um dicionário de médias de avaliação para cada loja e convertê-lo em uma série pandas."
      ]
    },
    {
      "cell_type": "markdown",
      "metadata": {
        "id": "3fa4d4a2"
      },
      "source": [
        "## Visualizar as médias de avaliação\n",
        "\n",
        "### Subtarefa:\n",
        "Gerar gráficos (por exemplo, gráficos de barras agrupadas ou múltiplos gráficos de barras) para comparar as vendas por categoria entre as lojas."
      ]
    },
    {
      "cell_type": "markdown",
      "metadata": {
        "id": "caebe166"
      },
      "source": [
        "**Raciocínio**:\n",
        "Gerar um gráfico de pizza para visualizar as médias de avaliação dos clientes para cada loja usando a Série combinada."
      ]
    },
    {
      "cell_type": "markdown",
      "metadata": {
        "id": "774796bb"
      },
      "source": [
        "## Resumo:\n",
        "\n",
        "### Principais Descobertas da Análise de Dados\n",
        "\n",
        "*   As médias de avaliação dos clientes para as lojas são: Loja 1: 3.98, Loja 2: 4.04, Loja 3: 4.05 e Loja 4: 4.00.\n",
        "*   Uma Série pandas foi criada para armazenar as médias de avaliação dos clientes para cada loja, fornecendo uma representação clara dos dados.\n",
        "*   Um gráfico de pizza foi gerado com sucesso para visualizar a média de avaliação dos clientes para cada loja, permitindo uma fácil comparação.\n",
        "\n",
        "### Insights ou Próximos Passos\n",
        "\n",
        "*   As médias de avaliação dos clientes em todas as lojas são relativamente próximas, indicando níveis consistentes de satisfação do cliente.\n",
        "*   Análises adicionais podem envolver a investigação dos fatores que influenciam as avaliações dos clientes para identificar áreas de melhoria ou melhores práticas a serem compartilhadas entre as lojas."
      ]
    },
    {
      "cell_type": "markdown",
      "metadata": {
        "id": "7ff5ff01"
      },
      "source": [
        "# Tarefa\n",
        "Analise os dados de vendas fornecidos de várias lojas para calcular a quantidade total de vendas para cada produto em todas as lojas, identificar os produtos mais e menos vendidos com base nessas quantidades e gerar gráficos de pizza para visualizar a proporção de vendas dos produtos mais e menos vendidos. A análise deve ser realizada nos dados contidos nos arquivos \"varejo_centro.xlsx\", \"varejo_oeste.xlsx\", \"varejo_leste.xlsx\" e \"varejo_norte.xlsx\"."
      ]
    },
    {
      "cell_type": "markdown",
      "metadata": {
        "id": "523dcf25"
      },
      "source": [
        "## Calcular a quantidade vendida de cada produto por loja\n",
        "\n",
        "### Subtarefa:\n",
        "Calcular a quantidade vendida de cada produto por loja"
      ]
    },
    {
      "cell_type": "markdown",
      "metadata": {
        "id": "7afd5ac9"
      },
      "source": [
        "**Raciocínio**:\n",
        "Agrupar os dados de cada loja por 'Produto' e contar as ocorrências para obter a quantidade vendida por produto para cada loja. Armazenar esses resultados em Séries separadas e exibi-los."
      ]
    },
    {
      "cell_type": "markdown",
      "metadata": {
        "id": "e4a905a8"
      },
      "source": [
        "## Combinar a quantidade vendida de produtos de todas as lojas\n",
        "\n",
        "### Subtarefa:\n",
        "Consolidar os dados de quantidade vendida de todas as lojas em um único DataFrame ou Series para ter uma visão geral dos produtos mais e menos vendidos no total."
      ]
    },
    {
      "cell_type": "markdown",
      "metadata": {
        "id": "fbaadcb8"
      },
      "source": [
        "**Raciocínio**:\n",
        "Combinar as Séries de quantidade de vendas em um único DataFrame, somar as quantidades entre as lojas para obter a quantidade total vendida por produto e exibir o resultado."
      ]
    },
    {
      "cell_type": "markdown",
      "metadata": {
        "id": "cf847ce8"
      },
      "source": [
        "## Identificar os produtos mais e menos vendidos\n",
        "\n",
        "### Subtarefa:\n",
        "Determinar quais produtos tiveram a maior e a menor quantidade de vendas no geral."
      ]
    },
    {
      "cell_type": "markdown",
      "metadata": {
        "id": "0fb97c41"
      },
      "source": [
        "**Raciocínio**:\n",
        "Ordenar a Série `quantidade_total_vendida` para encontrar os produtos menos e mais vendidos e, em seguida, imprimir os 5 principais e os 5 últimos."
      ]
    },
    {
      "cell_type": "markdown",
      "metadata": {
        "id": "016afbed"
      },
      "source": [
        "## Visualizar os produtos mais e menos vendidos\n",
        "\n",
        "### Subtarefa:\n",
        "Gerar gráficos de pizza para visualizar a proporção dos produtos mais vendidos em relação ao total de vendas e a proporção dos produtos menos vendidos em relação ao total de vendas."
      ]
    },
    {
      "cell_type": "markdown",
      "metadata": {
        "id": "3994b570"
      },
      "source": [
        "**Raciocínio**:\n",
        "Gerar gráficos de pizza para visualizar a proporção dos 5 produtos mais vendidos e dos 5 produtos menos vendidos."
      ]
    },
    {
      "cell_type": "markdown",
      "metadata": {
        "id": "ce73b99a"
      },
      "source": [
        "## Resumo:\n",
        "\n",
        "### Principais Descobertas da Análise de Dados\n",
        "\n",
        "*   A quantidade total de vendas para cada produto em todas as quatro lojas foi calculada concatenando e somando os dados de vendas de cada loja individualmente.\n",
        "*   Com base na quantidade total de vendas, os 5 produtos mais vendidos são: Cômoda, Carrinho controle remoto, Micro-ondas, Bateria e Cama king.\n",
        "*   Com base na quantidade total de vendas, os 5 produtos menos vendidos são: Celular ABXY, Headset, Mochila, Guitarra e Ciência de dados com python.\n",
        "*   Gráficos de pizza foram gerados para visualizar a proporção das vendas dos 5 produtos mais vendidos e dos 5 produtos menos vendidos.\n",
        "\n",
        "### Insights ou Próximos Passos\n",
        "\n",
        "*   Análises adicionais podem explorar as tendências de vendas dos produtos mais e menos vendidos ao longo do tempo para entender a sazonalidade ou outros fatores.\n",
        "*   Investigar as razões por trás das baixas vendas dos 5 produtos menos vendidos pode informar estratégias de melhoria, como campanhas de marketing ou ajustes no posicionamento do produto."
      ]
    },
    {
      "cell_type": "markdown",
      "metadata": {
        "id": "b75f431e"
      },
      "source": [
        "# Tarefa\n",
        "Calcular o custo médio do frete para cada loja e gerar um gráfico para visualizar os resultados."
      ]
    },
    {
      "cell_type": "markdown",
      "metadata": {
        "id": "8b1b237e"
      },
      "source": [
        "## Calcular o custo médio do frete para cada loja\n",
        "\n",
        "### Subtarefa:\n",
        "Calcular a média da coluna 'Frete' para cada um dos DataFrames das lojas."
      ]
    },
    {
      "cell_type": "markdown",
      "metadata": {
        "id": "735bac87"
      },
      "source": [
        "**Raciocínio**:\n",
        "Calcular o custo médio do frete para cada loja e armazenar os resultados em variáveis separadas, em seguida, imprimir os resultados formatados para duas casas decimais."
      ]
    },
    {
      "cell_type": "markdown",
      "metadata": {
        "id": "4bfb6ab1"
      },
      "source": [
        "## Combinar os custos médios do frete\n",
        "\n",
        "### Subtarefa:\n",
        "Criar um DataFrame ou Series contendo o custo médio do frete de cada loja para facilitar a visualização."
      ]
    },
    {
      "cell_type": "markdown",
      "metadata": {
        "id": "6b606e8b"
      },
      "source": [
        "**Raciocínio**:\n",
        "Criar um dicionário de custos médios de frete para cada loja e convertê-lo em uma série pandas."
      ]
    },
    {
      "cell_type": "markdown",
      "metadata": {
        "id": "50b49627"
      },
      "source": [
        "## Visualizar os custos médios do frete\n",
        "\n",
        "### Subtarefa:\n",
        "Gerar um gráfico (por exemplo, um gráfico de barras) para comparar o custo médio do frete entre as lojas."
      ]
    },
    {
      "cell_type": "markdown",
      "metadata": {
        "id": "5e55a3f3"
      },
      "source": [
        "**Raciocínio**:\n",
        "Gerar um gráfico de barras para visualizar o custo médio do frete para cada loja usando a Série combinada."
      ]
    },
    {
      "cell_type": "markdown",
      "metadata": {
        "id": "c5572e81"
      },
      "source": [
        "## Resumo:\n",
        "\n",
        "### Principais Descobertas da Análise de Dados\n",
        "\n",
        "*   O custo médio do frete para a Loja 1 é R\\$34.69.\n",
        "*   O custo médio do frete para a Loja 2 é R\\$33.62.\n",
        "*   O custo médio do frete para a Loja 3 é R\\$33.07.\n",
        "*   O custo médio do frete para a Loja 4 é R\\$31.28.\n",
        "*   A Loja 4 tem o menor custo médio de frete entre as quatro lojas.\n",
        "*   Um gráfico de barras foi gerado para visualizar o custo médio do frete por loja.\n",
        "\n",
        "### Insights ou Próximos Passos\n",
        "\n",
        "*   Investigar os fatores que contribuem para as diferenças nos custos médios de frete entre as lojas, particularmente por que a Loja 4 tem uma média significativamente menor.\n",
        "*   Analisar se as diferenças nos custos de frete impactam o comportamento de compra do cliente ou o desempenho da loja."
      ]
    }
  ]
}