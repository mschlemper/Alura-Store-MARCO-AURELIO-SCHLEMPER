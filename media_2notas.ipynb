{
  "nbformat": 4,
  "nbformat_minor": 0,
  "metadata": {
    "colab": {
      "provenance": [],
      "authorship_tag": "ABX9TyO38i22WX2/I3vqFd0Ysj8N",
      "include_colab_link": true
    },
    "kernelspec": {
      "name": "python3",
      "display_name": "Python 3"
    },
    "language_info": {
      "name": "python"
    }
  },
  "cells": [
    {
      "cell_type": "markdown",
      "metadata": {
        "id": "view-in-github",
        "colab_type": "text"
      },
      "source": [
        "<a href=\"https://colab.research.google.com/github/mschlemper/Alura-Store-MARCO-AURELIO-SCHLEMPER/blob/main/media_2notas.ipynb\" target=\"_parent\"><img src=\"https://colab.research.google.com/assets/colab-badge.svg\" alt=\"Open In Colab\"/></a>"
      ]
    },
    {
      "cell_type": "code",
      "execution_count": null,
      "metadata": {
        "id": "qSTlxicKiiOs"
      },
      "outputs": [],
      "source": [
        "# Crie um programa que leia as duas notas de um aluno. calcule e mostre sua media\n",
        "nota1 = float(input('Digite sua primeira nota: '))\n",
        "nota2 = float(input('Digite sua segunda nota: '))\n",
        "media = (nota1 + nota2) / 2\n",
        "print(f'a sua media referente as notas {n1} e {n2} são {media}')"
      ]
    }
  ]
}