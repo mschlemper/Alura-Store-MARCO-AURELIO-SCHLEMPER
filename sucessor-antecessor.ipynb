{
  "nbformat": 4,
  "nbformat_minor": 0,
  "metadata": {
    "colab": {
      "provenance": [],
      "authorship_tag": "ABX9TyPFzX873EhCKlb2ud2Zmdsq",
      "include_colab_link": true
    },
    "kernelspec": {
      "name": "python3",
      "display_name": "Python 3"
    },
    "language_info": {
      "name": "python"
    }
  },
  "cells": [
    {
      "cell_type": "markdown",
      "metadata": {
        "id": "view-in-github",
        "colab_type": "text"
      },
      "source": [
        "<a href=\"https://colab.research.google.com/github/mschlemper/Alura-Store-MARCO-AURELIO-SCHLEMPER/blob/main/sucessor-antecessor.ipynb\" target=\"_parent\"><img src=\"https://colab.research.google.com/assets/colab-badge.svg\" alt=\"Open In Colab\"/></a>"
      ]
    },
    {
      "cell_type": "code",
      "execution_count": 3,
      "metadata": {
        "colab": {
          "base_uri": "https://localhost:8080/"
        },
        "id": "fdzOCOzzd1Dh",
        "outputId": "6b1de1f8-b929-4e4a-c216-28da08006d84"
      },
      "outputs": [
        {
          "output_type": "stream",
          "name": "stdout",
          "text": [
            "digite um numero: 2\n",
            "antecessor de 2 é 1\n",
            "sucessor de 2 é 3\n"
          ]
        }
      ],
      "source": [
        "numero = int(input('digite um numero: '))\n",
        "antecessor = numero - 1\n",
        "sucessor = numero + 1\n",
        "print(f'antecessor de {numero} é {antecessor}')\n",
        "print(f'sucessor de {numero} é {sucessor}')"
      ]
    }
  ]
}