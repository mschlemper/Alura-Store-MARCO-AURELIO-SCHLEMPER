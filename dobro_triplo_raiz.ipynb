{
  "nbformat": 4,
  "nbformat_minor": 0,
  "metadata": {
    "colab": {
      "provenance": [],
      "authorship_tag": "ABX9TyNiX+m3wuY+jCRYFC3JcrTJ",
      "include_colab_link": true
    },
    "kernelspec": {
      "name": "python3",
      "display_name": "Python 3"
    },
    "language_info": {
      "name": "python"
    }
  },
  "cells": [
    {
      "cell_type": "markdown",
      "metadata": {
        "id": "view-in-github",
        "colab_type": "text"
      },
      "source": [
        "<a href=\"https://colab.research.google.com/github/mschlemper/Alura-Store-MARCO-AURELIO-SCHLEMPER/blob/main/dobro_triplo_raiz.ipynb\" target=\"_parent\"><img src=\"https://colab.research.google.com/assets/colab-badge.svg\" alt=\"Open In Colab\"/></a>"
      ]
    },
    {
      "cell_type": "code",
      "execution_count": 1,
      "metadata": {
        "colab": {
          "base_uri": "https://localhost:8080/"
        },
        "id": "GRcftXtPgudy",
        "outputId": "c1542a89-4d85-4b0d-a39c-660d36b718ad"
      },
      "outputs": [
        {
          "output_type": "stream",
          "name": "stdout",
          "text": [
            "digite um numero9\n",
            "o dobro de 9 é 18\n",
            "o dobro de 9 é 27\n",
            "a raiz quadrada de 9 é 3\n"
          ]
        }
      ],
      "source": [
        "#crie um programa que leia um numero e mostra seu dobro, triplo  e raiz quadrada\n",
        "n = int(input('digite um numero'))\n",
        "dobro = int(n * 2)\n",
        "triplo = int(n * 3)\n",
        "raiz = int(n ** (1/2))\n",
        "\n",
        "print(f'o dobro de {n} é {dobro}')\n",
        "print(f'o dobro de {n} é {triplo}')\n",
        "print(f'a raiz quadrada de {n} é {raiz}')"
      ]
    }
  ]
}