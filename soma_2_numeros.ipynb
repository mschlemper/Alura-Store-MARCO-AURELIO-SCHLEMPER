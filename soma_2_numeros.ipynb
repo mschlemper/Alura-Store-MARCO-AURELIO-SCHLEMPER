{
  "nbformat": 4,
  "nbformat_minor": 0,
  "metadata": {
    "colab": {
      "provenance": [],
      "authorship_tag": "ABX9TyOcxkbuzDlNJRf44dFq/t4W",
      "include_colab_link": true
    },
    "kernelspec": {
      "name": "python3",
      "display_name": "Python 3"
    },
    "language_info": {
      "name": "python"
    }
  },
  "cells": [
    {
      "cell_type": "markdown",
      "metadata": {
        "id": "view-in-github",
        "colab_type": "text"
      },
      "source": [
        "<a href=\"https://colab.research.google.com/github/mschlemper/Alura-Store-MARCO-AURELIO-SCHLEMPER/blob/main/soma_2_numeros.ipynb\" target=\"_parent\"><img src=\"https://colab.research.google.com/assets/colab-badge.svg\" alt=\"Open In Colab\"/></a>"
      ]
    },
    {
      "cell_type": "markdown",
      "source": [],
      "metadata": {
        "id": "oPLDZaaEf3LK"
      }
    },
    {
      "cell_type": "code",
      "execution_count": 1,
      "metadata": {
        "colab": {
          "base_uri": "https://localhost:8080/"
        },
        "id": "1W6RcNv0fofa",
        "outputId": "c8d9a4c3-b959-4f33-9d8e-0c233ad5d3d8"
      },
      "outputs": [
        {
          "output_type": "stream",
          "name": "stdout",
          "text": [
            "digite um numero1\n",
            "digite outro numero2\n",
            "a soma de 1 com 2 é igual a 3\n"
          ]
        }
      ],
      "source": [
        "# Faça um programa que leia dois nummeros e mostre a soma entre eles.\n",
        "n1 = int(input('digite um numero'))\n",
        "n2 = int(input('digite outro numero'))\n",
        "soma = n1 + n2\n",
        "print(f'a soma de {n1} com {2} é igual a {soma}')"
      ]
    }
  ]
}